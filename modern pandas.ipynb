{
 "cells": [
  {
   "cell_type": "markdown",
   "metadata": {},
   "source": [
    "# Learning to inditify a some new features to improve myself.\n",
    "- Refers:  https://tomaugspurger.net/posts/modern-1-intro/\n",
    "- Rdatasets: https://github.com/vincentarelbundock/Rdatasets/tree/master"
   ]
  },
  {
   "cell_type": "markdown",
   "metadata": {},
   "source": [
    "# Morden Pandas Part 1"
   ]
  },
  {
   "cell_type": "code",
   "execution_count": 3,
   "metadata": {},
   "outputs": [],
   "source": [
    "import numpy as np\n",
    "import pandas as pd\n",
    "import seaborn as sns\n",
    "import matplotlib.pyplot as plt\n",
    "\n",
    "df = pd.read_csv('T_ONTIME_REPORTING.csv',parse_dates=[\"FL_DATE\"]).rename(columns= str.lower)\n",
    "df.info()\n"
   ]
  },
  {
   "cell_type": "code",
   "execution_count": null,
   "metadata": {},
   "outputs": [],
   "source": [
    "df.keys()"
   ]
  },
  {
   "cell_type": "markdown",
   "metadata": {},
   "source": [
    "###### EXPLICI IS BETTER THAN IMPLICIT"
   ]
  },
  {
   "cell_type": "markdown",
   "metadata": {},
   "source": [
    "##### Slicing"
   ]
  },
  {
   "cell_type": "code",
   "execution_count": null,
   "metadata": {},
   "outputs": [],
   "source": [
    "# .loc for label-based indexing\n",
    "# .iloc for positional indexing\n",
    "first= df.groupby('op_unique_carrier')[['fl_date','air_time']].first()\n",
    "first.head()"
   ]
  },
  {
   "cell_type": "code",
   "execution_count": null,
   "metadata": {},
   "outputs": [],
   "source": [
    "# slicing take a (0,1) row and two column\n",
    "first.iloc[[0,1],[0,1]]\n"
   ]
  },
  {
   "cell_type": "code",
   "execution_count": null,
   "metadata": {},
   "outputs": [],
   "source": [
    "#or\n",
    "# a index: 19393(row) + column(fl_date,airline_code)\n",
    "first.loc[['DL','9E'], ['fl_date','air_time']]"
   ]
  },
  {
   "cell_type": "markdown",
   "metadata": {},
   "source": [
    "##### SettingWithCopy "
   ]
  },
  {
   "cell_type": "code",
   "execution_count": null,
   "metadata": {},
   "outputs": [],
   "source": [
    "f = pd.DataFrame({'a':[1,2,3,4,5],'b':[10,20,30,40,50]})\n",
    "f"
   ]
  },
  {
   "cell_type": "code",
   "execution_count": null,
   "metadata": {},
   "outputs": [],
   "source": [
    "f.loc[f['a'] <=3, 'b'] = f.loc[f['a'] <= 3, 'b']/10\n",
    "\n",
    "f"
   ]
  },
  {
   "cell_type": "markdown",
   "metadata": {},
   "source": [
    "##### Mutidimensional Indexing"
   ]
  },
  {
   "cell_type": "code",
   "execution_count": null,
   "metadata": {},
   "outputs": [],
   "source": [
    "hdf = df.set_index(['origin', 'dest','fl_date', 'op_unique_carrier']).sort_index()\n",
    "hdf[hdf.columns[:5]].head(1000)\n"
   ]
  },
  {
   "cell_type": "code",
   "execution_count": null,
   "metadata": {},
   "outputs": [],
   "source": [
    "hdf.loc[(['ABE', 'ATL'], ['ORD', 'DSM']), ['dep_time', 'dep_delay']]\n"
   ]
  },
  {
   "cell_type": "code",
   "execution_count": null,
   "metadata": {},
   "outputs": [],
   "source": [
    "hdf.loc[pd.IndexSlice[:, ['ORD', 'DSM']], ['dep_time', 'dep_delay']]\n",
    "#The : says include every label in this level. The IndexSlice object is just sugar for the actual python slice object needed to remove slice each level."
   ]
  },
  {
   "cell_type": "markdown",
   "metadata": {},
   "source": [
    "# Morden Pandas Part 2"
   ]
  },
  {
   "cell_type": "markdown",
   "metadata": {},
   "source": [
    "##### Method Chaining - Where you call methods on an object one after another"
   ]
  },
  {
   "cell_type": "code",
   "execution_count": 112,
   "metadata": {},
   "outputs": [],
   "source": [
    "import os \n",
    "import numpy as np\n",
    "import pandas as pd\n",
    "import seaborn as sns\n",
    "import matplotlib.pyplot as plt\n",
    "sns.set_theme(style='ticks', context='talk')\n",
    "\n",
    "                 "
   ]
  },
  {
   "cell_type": "code",
   "execution_count": null,
   "metadata": {},
   "outputs": [
    {
     "name": "stderr",
     "output_type": "stream",
     "text": [
      "C:\\Users\\Luis\\AppData\\Local\\Temp\\ipykernel_16784\\4262093795.py:34: UserWarning: Could not infer format, so each element will be parsed individually, falling back to `dateutil`. To ensure parsing is consistent and as-expected, please specify a format.\n",
      "  return pd.to_datetime(df['fl_date']+' '+ timepart.str.slice(0,2)+ ':'+ timepart.str.slice(2,4),errors='coerce')\n"
     ]
    }
   ],
   "source": [
    "def read(fp):\n",
    "    df = (pd.read_csv(fp)\n",
    "            .rename(columns=str.lower)\n",
    "            .pipe(extract_city_name)\n",
    "            .pipe(time_to_datetime, ['dep_time', 'arr_time', 'crs_arr_time', 'crs_dep_time'])\n",
    "            .assign(fl_date=lambda x: pd.to_datetime(x['fl_date']),\n",
    "                    dest=lambda x: pd.Categorical(x['dest']),\n",
    "                    origin=lambda x: pd.Categorical(x['origin']),\n",
    "                    tail_num=lambda x: pd.Categorical(x['tail_num']),\n",
    "                    unique_carrier=lambda x: pd.Categorical(x['op_unique_carrier']),\n",
    "                    ))\n",
    "    return df\n",
    "          \n",
    "def extract_city_name(df):\n",
    "    '''\n",
    "    Chicago, IL -> Chicago for origin_city and destiny_city\n",
    "    '''\n",
    "    cols = ['origin_city_name','dest_city_name']\n",
    "    city = df[cols].apply(lambda x: x.str.extract(\"(.*),\\w{2}\", expand =False))\n",
    "    df = df.copy()\n",
    "    df[['origin_city_name','dest_city_name']] = city\n",
    "    return df\n",
    "\n",
    "def time_to_datetime(df,columns):\n",
    "    '''\n",
    "    combine all time items into datetimes\n",
    "    2019-01-01,0914 -> 2019-01-01,09:14:00\n",
    "    '''\n",
    "    df = df.copy()\n",
    "    def converter(col):\n",
    "        timepart = (col.astype(str)\n",
    "                        .str.replace('\\.0$', '')  # NaNs force float dtype\n",
    "                        .str.pad(4, fillchar='0'))\n",
    "        return pd.to_datetime(df['fl_date']+' '+ timepart.str.slice(0,2)+ ':'+ timepart.str.slice(2,4),errors='coerce')\n",
    "    df[columns] = df[columns].apply(converter)\n",
    "    return df\n",
    "\n",
    "output = 'T_ONTIME_REPORTING.csv'\n",
    "\n",
    "if not os.path.exists(output):\n",
    "    print('downloading data')\n",
    "else:\n",
    "    df = read(output)\n",
    "df.info()"
   ]
  },
  {
   "cell_type": "markdown",
   "metadata": {},
   "source": [
    "##### Some way to apply a chain method"
   ]
  },
  {
   "cell_type": "code",
   "execution_count": null,
   "metadata": {},
   "outputs": [],
   "source": [
    "#Anolagy\n",
    "jack_jill = pd.DataFrame()\n",
    "(jack_jill.pipe(went_up, 'hill')\n",
    "    .pipe(fetch, 'water')\n",
    "    .pipe(fell_down, 'jack')\n",
    "    .pipe(broke, 'crown')\n",
    "    .pipe(tumble_after, 'jill')\n",
    ")"
   ]
  },
  {
   "cell_type": "markdown",
   "metadata": {},
   "source": [
    "##### Costs"
   ]
  },
  {
   "cell_type": "markdown",
   "metadata": {},
   "source": [
    "One drawback to excessively long chains is that debugging can be harder.\n",
    "For large workflows, you’ll probably want to move away from pandas to something more structured, like Airflow or Luigi."
   ]
  },
  {
   "cell_type": "code",
   "execution_count": 8,
   "metadata": {},
   "outputs": [],
   "source": [
    "#When writing medium sized ETL jobs in python that will be run repeatedly, I’ll use decorators to inspect and log properties about the DataFrames at each step of the process.\n",
    "\n",
    "from functools import wraps\n",
    "import logging\n",
    "\n",
    "def log_shape(func):\n",
    "    @wraps(func)\n",
    "    def wrapper(*args,**kwargs):\n",
    "        result = func(*args,**kwargs)\n",
    "        logging.info(\"%s,$s\" % (func.__name__,result.shape))\n",
    "        return result\n",
    "    return wrapper\n",
    "\n",
    "def log_dtypes(func):\n",
    "    @wraps(func)\n",
    "    def wrapper(*args,**kwargs):\n",
    "        result = func(*args,**kwargs)\n",
    "        logging.info(\"%s,$s\" % (func.__name__,result.dtypes))\n",
    "        return result\n",
    "    return wrapper\n",
    "\n",
    "@log_dtypes\n",
    "@log_shape\n",
    "def load(fp):\n",
    "    df = pd.read_csv(output,index_col=0,parse_dates=True)\n",
    "    \n",
    "@log_dtypes\n",
    "@log_shape\n",
    "def updatte_events(df,new_events):\n",
    "    df.loc[new_events.index,'foo']= new_events\n",
    "    return df"
   ]
  },
  {
   "cell_type": "markdown",
   "metadata": {},
   "source": [
    "##### Inplace"
   ]
  },
  {
   "cell_type": "markdown",
   "metadata": {},
   "source": [
    "Most pandas methods have an inplace keyword that’s False by default. In general, you shouldn’t do inplace operations."
   ]
  },
  {
   "cell_type": "markdown",
   "metadata": {},
   "source": [
    "That is, the pandas code might look something like this"
   ]
  },
  {
   "cell_type": "code",
   "execution_count": null,
   "metadata": {},
   "outputs": [],
   "source": [
    "def dataframe_method(self, inplace=False):\n",
    "    data = self.copy()  # regardless of inplace\n",
    "    result = ...\n",
    "    if inplace:\n",
    "        self._update_inplace(data)\n",
    "    else:\n",
    "        return result\n"
   ]
  },
  {
   "cell_type": "markdown",
   "metadata": {},
   "source": [
    "There’s a lot of defensive copying in pandas. Part of this comes down to pandas being built on top of NumPy, and not having full control over how memory is handled and shared. "
   ]
  },
  {
   "cell_type": "markdown",
   "metadata": {},
   "source": [
    "##### Application"
   ]
  },
  {
   "cell_type": "markdown",
   "metadata": {},
   "source": [
    "What does the daily flight pattern look like?"
   ]
  },
  {
   "cell_type": "code",
   "execution_count": null,
   "metadata": {},
   "outputs": [],
   "source": [
    "(df.dropna(subset=['dep_time', 'op_unique_carrier'])\n",
    "   .loc[df['op_unique_carrier']\n",
    "       .isin(df['op_unique_carrier'].value_counts().index[:5])]\n",
    "   .set_index('dep_time')\n",
    "   # TimeGrouper to resample & groupby at once\n",
    "   .groupby(['op_unique_carrier', pd.Grouper(freq=\"H\")])\n",
    "   .size()\n",
    "   .unstack(0)\n",
    "   .fillna(0)\n",
    "   .rolling(24)\n",
    "   .sum()\n",
    "   .rename_axis(\"Flights per Day\", axis=1)\n",
    "   .plot()\n",
    ")\n",
    "sns.despine()"
   ]
  },
  {
   "cell_type": "code",
   "execution_count": 59,
   "metadata": {},
   "outputs": [],
   "source": [
    "import statsmodels.api as sm\n"
   ]
  },
  {
   "cell_type": "markdown",
   "metadata": {},
   "source": [
    "Does a plane with multiple flights on the same day get backed up, causing later flights to be delayed more?"
   ]
  },
  {
   "cell_type": "code",
   "execution_count": null,
   "metadata": {},
   "outputs": [],
   "source": [
    "%config InlineBackend.figure_format = 'png'\n",
    "flights = (df[['fl_date', 'tail_num', 'dep_time', 'dep_delay']]\n",
    "           .dropna()\n",
    "           .sort_values('dep_time')\n",
    "           .loc[lambda x: x.dep_delay < 500]\n",
    "           .assign(turn = lambda x:\n",
    "                x.groupby(['fl_date', 'tail_num'])\n",
    "                 .dep_time\n",
    "                 .transform('rank').astype(int)))\n",
    "\n",
    "fig, ax = plt.subplots(figsize=(15, 5))\n",
    "sns.boxplot(x='turn', y='dep_delay', data=flights, ax=ax,palette=sns.color_palette(\"husl\", 8))\n",
    "ax.set_ylim(-50, 50)\n",
    "sns.despine()\n",
    "\n"
   ]
  },
  {
   "cell_type": "markdown",
   "metadata": {},
   "source": [
    "Do flights later in the day have longer delays?"
   ]
  },
  {
   "cell_type": "code",
   "execution_count": null,
   "metadata": {},
   "outputs": [],
   "source": [
    "plt.figure(figsize=(15, 5))\n",
    "(df[['fl_date', 'tail_num', 'dep_time', 'dep_delay']]\n",
    "    .dropna()\n",
    "    .assign(hour=lambda x: x.dep_time.dt.hour)\n",
    "    .query('5 < dep_delay < 600')\n",
    "    .pipe(sns.boxplot, x='hour', y='dep_delay', showmeans=True))\n",
    "sns.despine()\n"
   ]
  },
  {
   "cell_type": "markdown",
   "metadata": {},
   "source": [
    "# Morden Pandas Part 3 "
   ]
  },
  {
   "cell_type": "markdown",
   "metadata": {},
   "source": [
    "#### Indexes"
   ]
  },
  {
   "cell_type": "markdown",
   "metadata": {},
   "source": [
    "##### *offers*\n"
   ]
  },
  {
   "cell_type": "markdown",
   "metadata": {},
   "source": [
    "- metadata container\n",
    "- easy label-based row selection\n",
    "- ease label-based alignment in operations\n",
    "- label-based concatenation"
   ]
  },
  {
   "cell_type": "code",
   "execution_count": 61,
   "metadata": {},
   "outputs": [
    {
     "data": {
      "text/plain": [
       "Index([1, 2, 3], dtype='int64')"
      ]
     },
     "execution_count": 61,
     "metadata": {},
     "output_type": "execute_result"
    }
   ],
   "source": [
    "a=pd.Index([1,2,3])\n",
    "a"
   ]
  },
  {
   "cell_type": "code",
   "execution_count": 62,
   "metadata": {},
   "outputs": [
    {
     "data": {
      "text/plain": [
       "a       1\n",
       "b       2\n",
       "None    3\n",
       "dtype: int64"
      ]
     },
     "execution_count": 62,
     "metadata": {},
     "output_type": "execute_result"
    }
   ],
   "source": [
    "s = pd.Series([1, 2, 3], index=['a', 'b', None])\n",
    "s"
   ]
  },
  {
   "cell_type": "markdown",
   "metadata": {},
   "source": [
    "##### Set Operations"
   ]
  },
  {
   "cell_type": "markdown",
   "metadata": {},
   "source": [
    "Indexes are set-like(multisets,since you can have duplicates).\n",
    "- Are immutable, so you won't find any of the inplace\n",
    "- One other difference is that since Indexes are also array like, you can’t use some infix operators like - for difference.\n",
    "- If you have a numeric index it is unclear whether you intend to perform math operations or set operations.\n",
    "- You can use & for intersetion, | for union, and ^ for symmetric difference though, since there’s no ambiguity."
   ]
  },
  {
   "cell_type": "markdown",
   "metadata": {},
   "source": [
    "##### Flavors"
   ]
  },
  {
   "cell_type": "markdown",
   "metadata": {},
   "source": [
    "Pandas has many7 subclasse of the regular index\n",
    "- index\n",
    "- int64Index\n",
    "- RangeIndex( memory-saving speciall case of int64Index)\n",
    "- FloatIndex\n",
    "- DatetimeIndex ( DateTime64[ns] precision data)\n",
    "- PeriodIndex\n",
    "- TTimedeltaIndex\n",
    "- CategoricalIndex"
   ]
  },
  {
   "cell_type": "markdown",
   "metadata": {},
   "source": [
    "##### Row Slicing"
   ]
  },
  {
   "cell_type": "code",
   "execution_count": 95,
   "metadata": {},
   "outputs": [
    {
     "data": {
      "text/plain": [
       "1"
      ]
     },
     "execution_count": 95,
     "metadata": {},
     "output_type": "execute_result"
    }
   ],
   "source": [
    "# great to makeing row subsetting as easy as column substting.\n",
    "s.loc['a']"
   ]
  },
  {
   "cell_type": "code",
   "execution_count": null,
   "metadata": {},
   "outputs": [],
   "source": [
    "s.reset_index()\n",
    "s[s[2]== 3]\n",
    "# without index we'd probably resort to boolean masks"
   ]
  },
  {
   "cell_type": "markdown",
   "metadata": {},
   "source": [
    "##### Indexes for Easis Arithmetic, Analysis"
   ]
  },
  {
   "cell_type": "code",
   "execution_count": 15,
   "metadata": {},
   "outputs": [
    {
     "name": "stdout",
     "output_type": "stream",
     "text": [
      "a    1\n",
      "b    2\n",
      "c    3\n",
      "d    4\n",
      "dtype: int64 \n",
      "\n",
      " a    10\n",
      "b    20\n",
      "c    30\n",
      "d    40\n",
      "dtype: int64\n"
     ]
    }
   ],
   "source": [
    "import pandas as pd\n",
    "ser_1 = pd.Series([1,2,3,4], index=['a', 'b', 'c', 'd'])\n",
    "ser_2 = pd.Series([10,20,30,40], index=['a', 'b', 'c', 'd'])\n",
    "print(ser_1,'\\n\\n', ser_2)"
   ]
  },
  {
   "cell_type": "code",
   "execution_count": 5,
   "metadata": {},
   "outputs": [
    {
     "data": {
      "text/plain": [
       "a    11\n",
       "b    22\n",
       "c    33\n",
       "d    44\n",
       "dtype: int64"
      ]
     },
     "execution_count": 5,
     "metadata": {},
     "output_type": "execute_result"
    }
   ],
   "source": [
    "ser_1 + ser_2"
   ]
  },
  {
   "cell_type": "markdown",
   "metadata": {},
   "source": [
    "##### Indexes for Alignment"
   ]
  },
  {
   "cell_type": "markdown",
   "metadata": {},
   "source": [
    "Automatic alignment, or reindexing, is fundamental to pandas."
   ]
  },
  {
   "cell_type": "code",
   "execution_count": 39,
   "metadata": {},
   "outputs": [
    {
     "data": {
      "text/plain": [
       "MultiIndex([('bar', 'one'),\n",
       "            ('bar', 'two'),\n",
       "            ('baz', 'one'),\n",
       "            ('baz', 'two'),\n",
       "            ('foo', 'one'),\n",
       "            ('foo', 'two'),\n",
       "            ('qux', 'one'),\n",
       "            ('qux', 'two')],\n",
       "           names=['first', 'second'])"
      ]
     },
     "execution_count": 39,
     "metadata": {},
     "output_type": "execute_result"
    }
   ],
   "source": [
    "import pandas as pd\n",
    "import numpy as np\n",
    "arrays = [\n",
    "    [\"bar\", \"bar\", \"baz\", \"baz\", \"foo\", \"foo\", \"qux\", \"qux\"],\n",
    "    [\"one\", \"two\", \"one\", \"two\", \"one\", \"two\", \"one\", \"two\"],\n",
    "]\n",
    "tuples = list(zip(*arrays))\n",
    "index = pd.MultiIndex.from_tuples(tuples, names=[\"first\", \"second\"])\n",
    "index"
   ]
  },
  {
   "cell_type": "code",
   "execution_count": 35,
   "metadata": {},
   "outputs": [
    {
     "data": {
      "text/plain": [
       "first  second\n",
       "bar    one       0.667960\n",
       "       two       0.057380\n",
       "baz    one       0.421367\n",
       "       two       0.293868\n",
       "foo    one       0.963597\n",
       "       two       0.798238\n",
       "qux    one       0.590313\n",
       "       two       0.645839\n",
       "dtype: float64"
      ]
     },
     "execution_count": 35,
     "metadata": {},
     "output_type": "execute_result"
    }
   ],
   "source": [
    "s = pd.Series(np.random.rand(8), index=index)\n",
    "s"
   ]
  },
  {
   "cell_type": "code",
   "execution_count": 46,
   "metadata": {},
   "outputs": [
    {
     "name": "stdout",
     "output_type": "stream",
     "text": [
      "Index(['bar', 'bar', 'baz', 'baz', 'foo', 'foo', 'qux', 'qux'], dtype='object', name='first') \n",
      " Index(['one', 'two', 'one', 'two', 'one', 'two', 'one', 'two'], dtype='object', name='second')\n"
     ]
    }
   ],
   "source": [
    "print(index.get_level_values(0),'\\n',\n",
    "index.get_level_values(\"second\"))\n",
    "\n"
   ]
  },
  {
   "cell_type": "code",
   "execution_count": 59,
   "metadata": {},
   "outputs": [
    {
     "data": {
      "text/plain": [
       "first  second\n",
       "bar    one       1.667960\n",
       "       two       1.057380\n",
       "baz    one       1.421367\n",
       "       two       1.293868\n",
       "foo    one       1.963597\n",
       "       two       1.798238\n",
       "qux    one       1.590313\n",
       "       two       1.645839\n",
       "dtype: float64"
      ]
     },
     "execution_count": 59,
     "metadata": {},
     "output_type": "execute_result"
    }
   ],
   "source": [
    "number_10 = s + 10 /10\n",
    "number_10"
   ]
  },
  {
   "cell_type": "markdown",
   "metadata": {},
   "source": [
    "##### Merging"
   ]
  },
  {
   "cell_type": "markdown",
   "metadata": {},
   "source": [
    "**Two ways of merging**\n",
    "- Relational DataBase style with pd.merge\n",
    "- Array style with pd.concat"
   ]
  },
  {
   "cell_type": "code",
   "execution_count": 114,
   "metadata": {},
   "outputs": [],
   "source": [
    "d2 = {'col1': [1, 2], 'col2': [3, 4]}\n",
    "df = pd.DataFrame(data=d2)\n",
    "\n"
   ]
  },
  {
   "cell_type": "code",
   "execution_count": 125,
   "metadata": {},
   "outputs": [
    {
     "data": {
      "text/html": [
       "<div>\n",
       "<style scoped>\n",
       "    .dataframe tbody tr th:only-of-type {\n",
       "        vertical-align: middle;\n",
       "    }\n",
       "\n",
       "    .dataframe tbody tr th {\n",
       "        vertical-align: top;\n",
       "    }\n",
       "\n",
       "    .dataframe thead th {\n",
       "        text-align: right;\n",
       "    }\n",
       "</style>\n",
       "<table border=\"1\" class=\"dataframe\">\n",
       "  <thead>\n",
       "    <tr style=\"text-align: right;\">\n",
       "      <th></th>\n",
       "      <th>col3</th>\n",
       "      <th>col4</th>\n",
       "    </tr>\n",
       "  </thead>\n",
       "  <tbody>\n",
       "    <tr>\n",
       "      <th>0</th>\n",
       "      <td>2</td>\n",
       "      <td>3</td>\n",
       "    </tr>\n",
       "    <tr>\n",
       "      <th>1</th>\n",
       "      <td>2</td>\n",
       "      <td>6</td>\n",
       "    </tr>\n",
       "  </tbody>\n",
       "</table>\n",
       "</div>"
      ],
      "text/plain": [
       "   col3  col4\n",
       "0     2     3\n",
       "1     2     6"
      ]
     },
     "execution_count": 125,
     "metadata": {},
     "output_type": "execute_result"
    }
   ],
   "source": [
    "d1 = {'col3': [2, 2], 'col4': [3, 6]}\n",
    "df2 = pd.DataFrame(data=d1)\n",
    "df2"
   ]
  },
  {
   "cell_type": "markdown",
   "metadata": {},
   "source": [
    "Concat version"
   ]
  },
  {
   "cell_type": "code",
   "execution_count": 119,
   "metadata": {},
   "outputs": [
    {
     "data": {
      "text/html": [
       "<div>\n",
       "<style scoped>\n",
       "    .dataframe tbody tr th:only-of-type {\n",
       "        vertical-align: middle;\n",
       "    }\n",
       "\n",
       "    .dataframe tbody tr th {\n",
       "        vertical-align: top;\n",
       "    }\n",
       "\n",
       "    .dataframe thead th {\n",
       "        text-align: right;\n",
       "    }\n",
       "</style>\n",
       "<table border=\"1\" class=\"dataframe\">\n",
       "  <thead>\n",
       "    <tr style=\"text-align: right;\">\n",
       "      <th></th>\n",
       "      <th>col1</th>\n",
       "      <th>col2</th>\n",
       "    </tr>\n",
       "  </thead>\n",
       "  <tbody>\n",
       "    <tr>\n",
       "      <th>0</th>\n",
       "      <td>1</td>\n",
       "      <td>3</td>\n",
       "    </tr>\n",
       "    <tr>\n",
       "      <th>1</th>\n",
       "      <td>2</td>\n",
       "      <td>4</td>\n",
       "    </tr>\n",
       "    <tr>\n",
       "      <th>0</th>\n",
       "      <td>2</td>\n",
       "      <td>3</td>\n",
       "    </tr>\n",
       "    <tr>\n",
       "      <th>1</th>\n",
       "      <td>2</td>\n",
       "      <td>6</td>\n",
       "    </tr>\n",
       "  </tbody>\n",
       "</table>\n",
       "</div>"
      ],
      "text/plain": [
       "   col1  col2\n",
       "0     1     3\n",
       "1     2     4\n",
       "0     2     3\n",
       "1     2     6"
      ]
     },
     "execution_count": 119,
     "metadata": {},
     "output_type": "execute_result"
    }
   ],
   "source": [
    "# axis = 0 vertically\n",
    "# axis = 1 horizontally\n",
    "pd.concat([df,df2],axis=0,join='outer')"
   ]
  },
  {
   "cell_type": "markdown",
   "metadata": {},
   "source": [
    "Merge version"
   ]
  },
  {
   "cell_type": "code",
   "execution_count": 133,
   "metadata": {},
   "outputs": [
    {
     "data": {
      "text/html": [
       "<div>\n",
       "<style scoped>\n",
       "    .dataframe tbody tr th:only-of-type {\n",
       "        vertical-align: middle;\n",
       "    }\n",
       "\n",
       "    .dataframe tbody tr th {\n",
       "        vertical-align: top;\n",
       "    }\n",
       "\n",
       "    .dataframe thead th {\n",
       "        text-align: right;\n",
       "    }\n",
       "</style>\n",
       "<table border=\"1\" class=\"dataframe\">\n",
       "  <thead>\n",
       "    <tr style=\"text-align: right;\">\n",
       "      <th></th>\n",
       "      <th>col1</th>\n",
       "      <th>col2</th>\n",
       "      <th>col3</th>\n",
       "      <th>col4</th>\n",
       "    </tr>\n",
       "  </thead>\n",
       "  <tbody>\n",
       "    <tr>\n",
       "      <th>0</th>\n",
       "      <td>1</td>\n",
       "      <td>3</td>\n",
       "      <td>2</td>\n",
       "      <td>3</td>\n",
       "    </tr>\n",
       "    <tr>\n",
       "      <th>1</th>\n",
       "      <td>2</td>\n",
       "      <td>4</td>\n",
       "      <td>2</td>\n",
       "      <td>6</td>\n",
       "    </tr>\n",
       "  </tbody>\n",
       "</table>\n",
       "</div>"
      ],
      "text/plain": [
       "   col1  col2  col3  col4\n",
       "0     1     3     2     3\n",
       "1     2     4     2     6"
      ]
     },
     "execution_count": 133,
     "metadata": {},
     "output_type": "execute_result"
    }
   ],
   "source": [
    "pd.merge(df,df2, left_index=True,right_index=True,how='inner').head()"
   ]
  },
  {
   "cell_type": "markdown",
   "metadata": {},
   "source": [
    "# Morden Pandas Part 4"
   ]
  },
  {
   "cell_type": "markdown",
   "metadata": {},
   "source": [
    "##### Constructors"
   ]
  },
  {
   "cell_type": "markdown",
   "metadata": {},
   "source": [
    "Bunch of CSVs that need to be combined into a single DataFrame. Two routes to the same end:\n",
    "- 1- Initilize one DataFrame and append to that\n",
    "- 2- Make many smaller DataFrames and concatenate at the end\n",
    "\n",
    "    - second option is faster"
   ]
  },
  {
   "cell_type": "code",
   "execution_count": null,
   "metadata": {},
   "outputs": [],
   "source": [
    "# If you need to concatenate several dataframes, you don't need to initialize an empty dataframe and append. What can be done is in a pandorable way, use list-comprehension\n",
    "files = glob.glob('....')\n",
    "concatdfs = [pd.read_csv(archive) for archive in files]\n",
    "df = pd.concat(concatdfs)"
   ]
  },
  {
   "cell_type": "markdown",
   "metadata": {},
   "source": [
    "**Two functions for building an identical DataFrame**"
   ]
  },
  {
   "cell_type": "code",
   "execution_count": 1,
   "metadata": {},
   "outputs": [
    {
     "name": "stderr",
     "output_type": "stream",
     "text": [
      "C:\\Users\\Luis\\AppData\\Local\\Temp\\ipykernel_23776\\69708688.py:32: FutureWarning: The behavior of DataFrame concatenation with empty or all-NA entries is deprecated. In a future version, this will no longer exclude empty or all-NA columns when determining the result dtypes. To retain the old behavior, exclude the relevant entries before the concat operation.\n",
      "  df = pd.concat([df, pd.DataFrame(np.random.randn(size_per, 4), columns=cols)], ignore_index=True)\n",
      "C:\\Users\\Luis\\AppData\\Local\\Temp\\ipykernel_23776\\69708688.py:32: FutureWarning: The behavior of DataFrame concatenation with empty or all-NA entries is deprecated. In a future version, this will no longer exclude empty or all-NA columns when determining the result dtypes. To retain the old behavior, exclude the relevant entries before the concat operation.\n",
      "  df = pd.concat([df, pd.DataFrame(np.random.randn(size_per, 4), columns=cols)], ignore_index=True)\n",
      "C:\\Users\\Luis\\AppData\\Local\\Temp\\ipykernel_23776\\69708688.py:32: FutureWarning: The behavior of DataFrame concatenation with empty or all-NA entries is deprecated. In a future version, this will no longer exclude empty or all-NA columns when determining the result dtypes. To retain the old behavior, exclude the relevant entries before the concat operation.\n",
      "  df = pd.concat([df, pd.DataFrame(np.random.randn(size_per, 4), columns=cols)], ignore_index=True)\n",
      "C:\\Users\\Luis\\AppData\\Local\\Temp\\ipykernel_23776\\69708688.py:32: FutureWarning: The behavior of DataFrame concatenation with empty or all-NA entries is deprecated. In a future version, this will no longer exclude empty or all-NA columns when determining the result dtypes. To retain the old behavior, exclude the relevant entries before the concat operation.\n",
      "  df = pd.concat([df, pd.DataFrame(np.random.randn(size_per, 4), columns=cols)], ignore_index=True)\n",
      "C:\\Users\\Luis\\AppData\\Local\\Temp\\ipykernel_23776\\69708688.py:32: FutureWarning: The behavior of DataFrame concatenation with empty or all-NA entries is deprecated. In a future version, this will no longer exclude empty or all-NA columns when determining the result dtypes. To retain the old behavior, exclude the relevant entries before the concat operation.\n",
      "  df = pd.concat([df, pd.DataFrame(np.random.randn(size_per, 4), columns=cols)], ignore_index=True)\n",
      "C:\\Users\\Luis\\AppData\\Local\\Temp\\ipykernel_23776\\69708688.py:32: FutureWarning: The behavior of DataFrame concatenation with empty or all-NA entries is deprecated. In a future version, this will no longer exclude empty or all-NA columns when determining the result dtypes. To retain the old behavior, exclude the relevant entries before the concat operation.\n",
      "  df = pd.concat([df, pd.DataFrame(np.random.randn(size_per, 4), columns=cols)], ignore_index=True)\n",
      "C:\\Users\\Luis\\AppData\\Local\\Temp\\ipykernel_23776\\69708688.py:32: FutureWarning: The behavior of DataFrame concatenation with empty or all-NA entries is deprecated. In a future version, this will no longer exclude empty or all-NA columns when determining the result dtypes. To retain the old behavior, exclude the relevant entries before the concat operation.\n",
      "  df = pd.concat([df, pd.DataFrame(np.random.randn(size_per, 4), columns=cols)], ignore_index=True)\n",
      "C:\\Users\\Luis\\AppData\\Local\\Temp\\ipykernel_23776\\69708688.py:32: FutureWarning: The behavior of DataFrame concatenation with empty or all-NA entries is deprecated. In a future version, this will no longer exclude empty or all-NA columns when determining the result dtypes. To retain the old behavior, exclude the relevant entries before the concat operation.\n",
      "  df = pd.concat([df, pd.DataFrame(np.random.randn(size_per, 4), columns=cols)], ignore_index=True)\n",
      "C:\\Users\\Luis\\AppData\\Local\\Temp\\ipykernel_23776\\69708688.py:32: FutureWarning: The behavior of DataFrame concatenation with empty or all-NA entries is deprecated. In a future version, this will no longer exclude empty or all-NA columns when determining the result dtypes. To retain the old behavior, exclude the relevant entries before the concat operation.\n",
      "  df = pd.concat([df, pd.DataFrame(np.random.randn(size_per, 4), columns=cols)], ignore_index=True)\n",
      "C:\\Users\\Luis\\AppData\\Local\\Temp\\ipykernel_23776\\69708688.py:32: FutureWarning: The behavior of DataFrame concatenation with empty or all-NA entries is deprecated. In a future version, this will no longer exclude empty or all-NA columns when determining the result dtypes. To retain the old behavior, exclude the relevant entries before the concat operation.\n",
      "  df = pd.concat([df, pd.DataFrame(np.random.randn(size_per, 4), columns=cols)], ignore_index=True)\n",
      "C:\\Users\\Luis\\AppData\\Local\\Temp\\ipykernel_23776\\69708688.py:32: FutureWarning: The behavior of DataFrame concatenation with empty or all-NA entries is deprecated. In a future version, this will no longer exclude empty or all-NA columns when determining the result dtypes. To retain the old behavior, exclude the relevant entries before the concat operation.\n",
      "  df = pd.concat([df, pd.DataFrame(np.random.randn(size_per, 4), columns=cols)], ignore_index=True)\n",
      "C:\\Users\\Luis\\AppData\\Local\\Temp\\ipykernel_23776\\69708688.py:32: FutureWarning: The behavior of DataFrame concatenation with empty or all-NA entries is deprecated. In a future version, this will no longer exclude empty or all-NA columns when determining the result dtypes. To retain the old behavior, exclude the relevant entries before the concat operation.\n",
      "  df = pd.concat([df, pd.DataFrame(np.random.randn(size_per, 4), columns=cols)], ignore_index=True)\n",
      "C:\\Users\\Luis\\AppData\\Local\\Temp\\ipykernel_23776\\69708688.py:32: FutureWarning: The behavior of DataFrame concatenation with empty or all-NA entries is deprecated. In a future version, this will no longer exclude empty or all-NA columns when determining the result dtypes. To retain the old behavior, exclude the relevant entries before the concat operation.\n",
      "  df = pd.concat([df, pd.DataFrame(np.random.randn(size_per, 4), columns=cols)], ignore_index=True)\n",
      "C:\\Users\\Luis\\AppData\\Local\\Temp\\ipykernel_23776\\69708688.py:32: FutureWarning: The behavior of DataFrame concatenation with empty or all-NA entries is deprecated. In a future version, this will no longer exclude empty or all-NA columns when determining the result dtypes. To retain the old behavior, exclude the relevant entries before the concat operation.\n",
      "  df = pd.concat([df, pd.DataFrame(np.random.randn(size_per, 4), columns=cols)], ignore_index=True)\n",
      "C:\\Users\\Luis\\AppData\\Local\\Temp\\ipykernel_23776\\69708688.py:32: FutureWarning: The behavior of DataFrame concatenation with empty or all-NA entries is deprecated. In a future version, this will no longer exclude empty or all-NA columns when determining the result dtypes. To retain the old behavior, exclude the relevant entries before the concat operation.\n",
      "  df = pd.concat([df, pd.DataFrame(np.random.randn(size_per, 4), columns=cols)], ignore_index=True)\n",
      "C:\\Users\\Luis\\AppData\\Local\\Temp\\ipykernel_23776\\69708688.py:32: FutureWarning: The behavior of DataFrame concatenation with empty or all-NA entries is deprecated. In a future version, this will no longer exclude empty or all-NA columns when determining the result dtypes. To retain the old behavior, exclude the relevant entries before the concat operation.\n",
      "  df = pd.concat([df, pd.DataFrame(np.random.randn(size_per, 4), columns=cols)], ignore_index=True)\n",
      "C:\\Users\\Luis\\AppData\\Local\\Temp\\ipykernel_23776\\69708688.py:32: FutureWarning: The behavior of DataFrame concatenation with empty or all-NA entries is deprecated. In a future version, this will no longer exclude empty or all-NA columns when determining the result dtypes. To retain the old behavior, exclude the relevant entries before the concat operation.\n",
      "  df = pd.concat([df, pd.DataFrame(np.random.randn(size_per, 4), columns=cols)], ignore_index=True)\n",
      "C:\\Users\\Luis\\AppData\\Local\\Temp\\ipykernel_23776\\69708688.py:32: FutureWarning: The behavior of DataFrame concatenation with empty or all-NA entries is deprecated. In a future version, this will no longer exclude empty or all-NA columns when determining the result dtypes. To retain the old behavior, exclude the relevant entries before the concat operation.\n",
      "  df = pd.concat([df, pd.DataFrame(np.random.randn(size_per, 4), columns=cols)], ignore_index=True)\n",
      "C:\\Users\\Luis\\AppData\\Local\\Temp\\ipykernel_23776\\69708688.py:32: FutureWarning: The behavior of DataFrame concatenation with empty or all-NA entries is deprecated. In a future version, this will no longer exclude empty or all-NA columns when determining the result dtypes. To retain the old behavior, exclude the relevant entries before the concat operation.\n",
      "  df = pd.concat([df, pd.DataFrame(np.random.randn(size_per, 4), columns=cols)], ignore_index=True)\n",
      "C:\\Users\\Luis\\AppData\\Local\\Temp\\ipykernel_23776\\69708688.py:32: FutureWarning: The behavior of DataFrame concatenation with empty or all-NA entries is deprecated. In a future version, this will no longer exclude empty or all-NA columns when determining the result dtypes. To retain the old behavior, exclude the relevant entries before the concat operation.\n",
      "  df = pd.concat([df, pd.DataFrame(np.random.randn(size_per, 4), columns=cols)], ignore_index=True)\n",
      "C:\\Users\\Luis\\AppData\\Local\\Temp\\ipykernel_23776\\69708688.py:32: FutureWarning: The behavior of DataFrame concatenation with empty or all-NA entries is deprecated. In a future version, this will no longer exclude empty or all-NA columns when determining the result dtypes. To retain the old behavior, exclude the relevant entries before the concat operation.\n",
      "  df = pd.concat([df, pd.DataFrame(np.random.randn(size_per, 4), columns=cols)], ignore_index=True)\n",
      "C:\\Users\\Luis\\AppData\\Local\\Temp\\ipykernel_23776\\69708688.py:32: FutureWarning: The behavior of DataFrame concatenation with empty or all-NA entries is deprecated. In a future version, this will no longer exclude empty or all-NA columns when determining the result dtypes. To retain the old behavior, exclude the relevant entries before the concat operation.\n",
      "  df = pd.concat([df, pd.DataFrame(np.random.randn(size_per, 4), columns=cols)], ignore_index=True)\n",
      "C:\\Users\\Luis\\AppData\\Local\\Temp\\ipykernel_23776\\69708688.py:32: FutureWarning: The behavior of DataFrame concatenation with empty or all-NA entries is deprecated. In a future version, this will no longer exclude empty or all-NA columns when determining the result dtypes. To retain the old behavior, exclude the relevant entries before the concat operation.\n",
      "  df = pd.concat([df, pd.DataFrame(np.random.randn(size_per, 4), columns=cols)], ignore_index=True)\n",
      "C:\\Users\\Luis\\AppData\\Local\\Temp\\ipykernel_23776\\69708688.py:32: FutureWarning: The behavior of DataFrame concatenation with empty or all-NA entries is deprecated. In a future version, this will no longer exclude empty or all-NA columns when determining the result dtypes. To retain the old behavior, exclude the relevant entries before the concat operation.\n",
      "  df = pd.concat([df, pd.DataFrame(np.random.randn(size_per, 4), columns=cols)], ignore_index=True)\n",
      "C:\\Users\\Luis\\AppData\\Local\\Temp\\ipykernel_23776\\69708688.py:32: FutureWarning: The behavior of DataFrame concatenation with empty or all-NA entries is deprecated. In a future version, this will no longer exclude empty or all-NA columns when determining the result dtypes. To retain the old behavior, exclude the relevant entries before the concat operation.\n",
      "  df = pd.concat([df, pd.DataFrame(np.random.randn(size_per, 4), columns=cols)], ignore_index=True)\n",
      "C:\\Users\\Luis\\AppData\\Local\\Temp\\ipykernel_23776\\69708688.py:32: FutureWarning: The behavior of DataFrame concatenation with empty or all-NA entries is deprecated. In a future version, this will no longer exclude empty or all-NA columns when determining the result dtypes. To retain the old behavior, exclude the relevant entries before the concat operation.\n",
      "  df = pd.concat([df, pd.DataFrame(np.random.randn(size_per, 4), columns=cols)], ignore_index=True)\n",
      "C:\\Users\\Luis\\AppData\\Local\\Temp\\ipykernel_23776\\69708688.py:32: FutureWarning: The behavior of DataFrame concatenation with empty or all-NA entries is deprecated. In a future version, this will no longer exclude empty or all-NA columns when determining the result dtypes. To retain the old behavior, exclude the relevant entries before the concat operation.\n",
      "  df = pd.concat([df, pd.DataFrame(np.random.randn(size_per, 4), columns=cols)], ignore_index=True)\n",
      "C:\\Users\\Luis\\AppData\\Local\\Temp\\ipykernel_23776\\69708688.py:32: FutureWarning: The behavior of DataFrame concatenation with empty or all-NA entries is deprecated. In a future version, this will no longer exclude empty or all-NA columns when determining the result dtypes. To retain the old behavior, exclude the relevant entries before the concat operation.\n",
      "  df = pd.concat([df, pd.DataFrame(np.random.randn(size_per, 4), columns=cols)], ignore_index=True)\n",
      "C:\\Users\\Luis\\AppData\\Local\\Temp\\ipykernel_23776\\69708688.py:32: FutureWarning: The behavior of DataFrame concatenation with empty or all-NA entries is deprecated. In a future version, this will no longer exclude empty or all-NA columns when determining the result dtypes. To retain the old behavior, exclude the relevant entries before the concat operation.\n",
      "  df = pd.concat([df, pd.DataFrame(np.random.randn(size_per, 4), columns=cols)], ignore_index=True)\n",
      "C:\\Users\\Luis\\AppData\\Local\\Temp\\ipykernel_23776\\69708688.py:32: FutureWarning: The behavior of DataFrame concatenation with empty or all-NA entries is deprecated. In a future version, this will no longer exclude empty or all-NA columns when determining the result dtypes. To retain the old behavior, exclude the relevant entries before the concat operation.\n",
      "  df = pd.concat([df, pd.DataFrame(np.random.randn(size_per, 4), columns=cols)], ignore_index=True)\n",
      "C:\\Users\\Luis\\AppData\\Local\\Temp\\ipykernel_23776\\69708688.py:32: FutureWarning: The behavior of DataFrame concatenation with empty or all-NA entries is deprecated. In a future version, this will no longer exclude empty or all-NA columns when determining the result dtypes. To retain the old behavior, exclude the relevant entries before the concat operation.\n",
      "  df = pd.concat([df, pd.DataFrame(np.random.randn(size_per, 4), columns=cols)], ignore_index=True)\n",
      "C:\\Users\\Luis\\AppData\\Local\\Temp\\ipykernel_23776\\69708688.py:32: FutureWarning: The behavior of DataFrame concatenation with empty or all-NA entries is deprecated. In a future version, this will no longer exclude empty or all-NA columns when determining the result dtypes. To retain the old behavior, exclude the relevant entries before the concat operation.\n",
      "  df = pd.concat([df, pd.DataFrame(np.random.randn(size_per, 4), columns=cols)], ignore_index=True)\n",
      "C:\\Users\\Luis\\AppData\\Local\\Temp\\ipykernel_23776\\69708688.py:32: FutureWarning: The behavior of DataFrame concatenation with empty or all-NA entries is deprecated. In a future version, this will no longer exclude empty or all-NA columns when determining the result dtypes. To retain the old behavior, exclude the relevant entries before the concat operation.\n",
      "  df = pd.concat([df, pd.DataFrame(np.random.randn(size_per, 4), columns=cols)], ignore_index=True)\n",
      "C:\\Users\\Luis\\AppData\\Local\\Temp\\ipykernel_23776\\69708688.py:32: FutureWarning: The behavior of DataFrame concatenation with empty or all-NA entries is deprecated. In a future version, this will no longer exclude empty or all-NA columns when determining the result dtypes. To retain the old behavior, exclude the relevant entries before the concat operation.\n",
      "  df = pd.concat([df, pd.DataFrame(np.random.randn(size_per, 4), columns=cols)], ignore_index=True)\n",
      "C:\\Users\\Luis\\AppData\\Local\\Temp\\ipykernel_23776\\69708688.py:32: FutureWarning: The behavior of DataFrame concatenation with empty or all-NA entries is deprecated. In a future version, this will no longer exclude empty or all-NA columns when determining the result dtypes. To retain the old behavior, exclude the relevant entries before the concat operation.\n",
      "  df = pd.concat([df, pd.DataFrame(np.random.randn(size_per, 4), columns=cols)], ignore_index=True)\n",
      "C:\\Users\\Luis\\AppData\\Local\\Temp\\ipykernel_23776\\69708688.py:32: FutureWarning: The behavior of DataFrame concatenation with empty or all-NA entries is deprecated. In a future version, this will no longer exclude empty or all-NA columns when determining the result dtypes. To retain the old behavior, exclude the relevant entries before the concat operation.\n",
      "  df = pd.concat([df, pd.DataFrame(np.random.randn(size_per, 4), columns=cols)], ignore_index=True)\n",
      "C:\\Users\\Luis\\AppData\\Local\\Temp\\ipykernel_23776\\69708688.py:32: FutureWarning: The behavior of DataFrame concatenation with empty or all-NA entries is deprecated. In a future version, this will no longer exclude empty or all-NA columns when determining the result dtypes. To retain the old behavior, exclude the relevant entries before the concat operation.\n",
      "  df = pd.concat([df, pd.DataFrame(np.random.randn(size_per, 4), columns=cols)], ignore_index=True)\n",
      "C:\\Users\\Luis\\AppData\\Local\\Temp\\ipykernel_23776\\69708688.py:32: FutureWarning: The behavior of DataFrame concatenation with empty or all-NA entries is deprecated. In a future version, this will no longer exclude empty or all-NA columns when determining the result dtypes. To retain the old behavior, exclude the relevant entries before the concat operation.\n",
      "  df = pd.concat([df, pd.DataFrame(np.random.randn(size_per, 4), columns=cols)], ignore_index=True)\n",
      "C:\\Users\\Luis\\AppData\\Local\\Temp\\ipykernel_23776\\69708688.py:32: FutureWarning: The behavior of DataFrame concatenation with empty or all-NA entries is deprecated. In a future version, this will no longer exclude empty or all-NA columns when determining the result dtypes. To retain the old behavior, exclude the relevant entries before the concat operation.\n",
      "  df = pd.concat([df, pd.DataFrame(np.random.randn(size_per, 4), columns=cols)], ignore_index=True)\n",
      "C:\\Users\\Luis\\AppData\\Local\\Temp\\ipykernel_23776\\69708688.py:32: FutureWarning: The behavior of DataFrame concatenation with empty or all-NA entries is deprecated. In a future version, this will no longer exclude empty or all-NA columns when determining the result dtypes. To retain the old behavior, exclude the relevant entries before the concat operation.\n",
      "  df = pd.concat([df, pd.DataFrame(np.random.randn(size_per, 4), columns=cols)], ignore_index=True)\n",
      "C:\\Users\\Luis\\AppData\\Local\\Temp\\ipykernel_23776\\69708688.py:32: FutureWarning: The behavior of DataFrame concatenation with empty or all-NA entries is deprecated. In a future version, this will no longer exclude empty or all-NA columns when determining the result dtypes. To retain the old behavior, exclude the relevant entries before the concat operation.\n",
      "  df = pd.concat([df, pd.DataFrame(np.random.randn(size_per, 4), columns=cols)], ignore_index=True)\n",
      "C:\\Users\\Luis\\AppData\\Local\\Temp\\ipykernel_23776\\69708688.py:32: FutureWarning: The behavior of DataFrame concatenation with empty or all-NA entries is deprecated. In a future version, this will no longer exclude empty or all-NA columns when determining the result dtypes. To retain the old behavior, exclude the relevant entries before the concat operation.\n",
      "  df = pd.concat([df, pd.DataFrame(np.random.randn(size_per, 4), columns=cols)], ignore_index=True)\n",
      "C:\\Users\\Luis\\AppData\\Local\\Temp\\ipykernel_23776\\69708688.py:32: FutureWarning: The behavior of DataFrame concatenation with empty or all-NA entries is deprecated. In a future version, this will no longer exclude empty or all-NA columns when determining the result dtypes. To retain the old behavior, exclude the relevant entries before the concat operation.\n",
      "  df = pd.concat([df, pd.DataFrame(np.random.randn(size_per, 4), columns=cols)], ignore_index=True)\n",
      "C:\\Users\\Luis\\AppData\\Local\\Temp\\ipykernel_23776\\69708688.py:32: FutureWarning: The behavior of DataFrame concatenation with empty or all-NA entries is deprecated. In a future version, this will no longer exclude empty or all-NA columns when determining the result dtypes. To retain the old behavior, exclude the relevant entries before the concat operation.\n",
      "  df = pd.concat([df, pd.DataFrame(np.random.randn(size_per, 4), columns=cols)], ignore_index=True)\n",
      "C:\\Users\\Luis\\AppData\\Local\\Temp\\ipykernel_23776\\69708688.py:32: FutureWarning: The behavior of DataFrame concatenation with empty or all-NA entries is deprecated. In a future version, this will no longer exclude empty or all-NA columns when determining the result dtypes. To retain the old behavior, exclude the relevant entries before the concat operation.\n",
      "  df = pd.concat([df, pd.DataFrame(np.random.randn(size_per, 4), columns=cols)], ignore_index=True)\n",
      "C:\\Users\\Luis\\AppData\\Local\\Temp\\ipykernel_23776\\69708688.py:32: FutureWarning: The behavior of DataFrame concatenation with empty or all-NA entries is deprecated. In a future version, this will no longer exclude empty or all-NA columns when determining the result dtypes. To retain the old behavior, exclude the relevant entries before the concat operation.\n",
      "  df = pd.concat([df, pd.DataFrame(np.random.randn(size_per, 4), columns=cols)], ignore_index=True)\n",
      "C:\\Users\\Luis\\AppData\\Local\\Temp\\ipykernel_23776\\69708688.py:32: FutureWarning: The behavior of DataFrame concatenation with empty or all-NA entries is deprecated. In a future version, this will no longer exclude empty or all-NA columns when determining the result dtypes. To retain the old behavior, exclude the relevant entries before the concat operation.\n",
      "  df = pd.concat([df, pd.DataFrame(np.random.randn(size_per, 4), columns=cols)], ignore_index=True)\n",
      "C:\\Users\\Luis\\AppData\\Local\\Temp\\ipykernel_23776\\69708688.py:32: FutureWarning: The behavior of DataFrame concatenation with empty or all-NA entries is deprecated. In a future version, this will no longer exclude empty or all-NA columns when determining the result dtypes. To retain the old behavior, exclude the relevant entries before the concat operation.\n",
      "  df = pd.concat([df, pd.DataFrame(np.random.randn(size_per, 4), columns=cols)], ignore_index=True)\n",
      "C:\\Users\\Luis\\AppData\\Local\\Temp\\ipykernel_23776\\69708688.py:32: FutureWarning: The behavior of DataFrame concatenation with empty or all-NA entries is deprecated. In a future version, this will no longer exclude empty or all-NA columns when determining the result dtypes. To retain the old behavior, exclude the relevant entries before the concat operation.\n",
      "  df = pd.concat([df, pd.DataFrame(np.random.randn(size_per, 4), columns=cols)], ignore_index=True)\n",
      "C:\\Users\\Luis\\AppData\\Local\\Temp\\ipykernel_23776\\69708688.py:32: FutureWarning: The behavior of DataFrame concatenation with empty or all-NA entries is deprecated. In a future version, this will no longer exclude empty or all-NA columns when determining the result dtypes. To retain the old behavior, exclude the relevant entries before the concat operation.\n",
      "  df = pd.concat([df, pd.DataFrame(np.random.randn(size_per, 4), columns=cols)], ignore_index=True)\n",
      "C:\\Users\\Luis\\AppData\\Local\\Temp\\ipykernel_23776\\69708688.py:32: FutureWarning: The behavior of DataFrame concatenation with empty or all-NA entries is deprecated. In a future version, this will no longer exclude empty or all-NA columns when determining the result dtypes. To retain the old behavior, exclude the relevant entries before the concat operation.\n",
      "  df = pd.concat([df, pd.DataFrame(np.random.randn(size_per, 4), columns=cols)], ignore_index=True)\n",
      "C:\\Users\\Luis\\AppData\\Local\\Temp\\ipykernel_23776\\69708688.py:32: FutureWarning: The behavior of DataFrame concatenation with empty or all-NA entries is deprecated. In a future version, this will no longer exclude empty or all-NA columns when determining the result dtypes. To retain the old behavior, exclude the relevant entries before the concat operation.\n",
      "  df = pd.concat([df, pd.DataFrame(np.random.randn(size_per, 4), columns=cols)], ignore_index=True)\n",
      "C:\\Users\\Luis\\AppData\\Local\\Temp\\ipykernel_23776\\69708688.py:32: FutureWarning: The behavior of DataFrame concatenation with empty or all-NA entries is deprecated. In a future version, this will no longer exclude empty or all-NA columns when determining the result dtypes. To retain the old behavior, exclude the relevant entries before the concat operation.\n",
      "  df = pd.concat([df, pd.DataFrame(np.random.randn(size_per, 4), columns=cols)], ignore_index=True)\n",
      "C:\\Users\\Luis\\AppData\\Local\\Temp\\ipykernel_23776\\69708688.py:32: FutureWarning: The behavior of DataFrame concatenation with empty or all-NA entries is deprecated. In a future version, this will no longer exclude empty or all-NA columns when determining the result dtypes. To retain the old behavior, exclude the relevant entries before the concat operation.\n",
      "  df = pd.concat([df, pd.DataFrame(np.random.randn(size_per, 4), columns=cols)], ignore_index=True)\n",
      "C:\\Users\\Luis\\AppData\\Local\\Temp\\ipykernel_23776\\69708688.py:32: FutureWarning: The behavior of DataFrame concatenation with empty or all-NA entries is deprecated. In a future version, this will no longer exclude empty or all-NA columns when determining the result dtypes. To retain the old behavior, exclude the relevant entries before the concat operation.\n",
      "  df = pd.concat([df, pd.DataFrame(np.random.randn(size_per, 4), columns=cols)], ignore_index=True)\n",
      "C:\\Users\\Luis\\AppData\\Local\\Temp\\ipykernel_23776\\69708688.py:32: FutureWarning: The behavior of DataFrame concatenation with empty or all-NA entries is deprecated. In a future version, this will no longer exclude empty or all-NA columns when determining the result dtypes. To retain the old behavior, exclude the relevant entries before the concat operation.\n",
      "  df = pd.concat([df, pd.DataFrame(np.random.randn(size_per, 4), columns=cols)], ignore_index=True)\n",
      "C:\\Users\\Luis\\AppData\\Local\\Temp\\ipykernel_23776\\69708688.py:32: FutureWarning: The behavior of DataFrame concatenation with empty or all-NA entries is deprecated. In a future version, this will no longer exclude empty or all-NA columns when determining the result dtypes. To retain the old behavior, exclude the relevant entries before the concat operation.\n",
      "  df = pd.concat([df, pd.DataFrame(np.random.randn(size_per, 4), columns=cols)], ignore_index=True)\n",
      "C:\\Users\\Luis\\AppData\\Local\\Temp\\ipykernel_23776\\69708688.py:32: FutureWarning: The behavior of DataFrame concatenation with empty or all-NA entries is deprecated. In a future version, this will no longer exclude empty or all-NA columns when determining the result dtypes. To retain the old behavior, exclude the relevant entries before the concat operation.\n",
      "  df = pd.concat([df, pd.DataFrame(np.random.randn(size_per, 4), columns=cols)], ignore_index=True)\n",
      "C:\\Users\\Luis\\AppData\\Local\\Temp\\ipykernel_23776\\69708688.py:32: FutureWarning: The behavior of DataFrame concatenation with empty or all-NA entries is deprecated. In a future version, this will no longer exclude empty or all-NA columns when determining the result dtypes. To retain the old behavior, exclude the relevant entries before the concat operation.\n",
      "  df = pd.concat([df, pd.DataFrame(np.random.randn(size_per, 4), columns=cols)], ignore_index=True)\n",
      "C:\\Users\\Luis\\AppData\\Local\\Temp\\ipykernel_23776\\69708688.py:32: FutureWarning: The behavior of DataFrame concatenation with empty or all-NA entries is deprecated. In a future version, this will no longer exclude empty or all-NA columns when determining the result dtypes. To retain the old behavior, exclude the relevant entries before the concat operation.\n",
      "  df = pd.concat([df, pd.DataFrame(np.random.randn(size_per, 4), columns=cols)], ignore_index=True)\n"
     ]
    },
    {
     "data": {
      "text/html": [
       "<div>\n",
       "<style scoped>\n",
       "    .dataframe tbody tr th:only-of-type {\n",
       "        vertical-align: middle;\n",
       "    }\n",
       "\n",
       "    .dataframe tbody tr th {\n",
       "        vertical-align: top;\n",
       "    }\n",
       "\n",
       "    .dataframe thead th {\n",
       "        text-align: right;\n",
       "    }\n",
       "</style>\n",
       "<table border=\"1\" class=\"dataframe\">\n",
       "  <thead>\n",
       "    <tr style=\"text-align: right;\">\n",
       "      <th></th>\n",
       "      <th>level_0</th>\n",
       "      <th>Method</th>\n",
       "      <th>Time (s)</th>\n",
       "    </tr>\n",
       "  </thead>\n",
       "  <tbody>\n",
       "    <tr>\n",
       "      <th>0</th>\n",
       "      <td>0</td>\n",
       "      <td>Append</td>\n",
       "      <td>0.171050</td>\n",
       "    </tr>\n",
       "    <tr>\n",
       "      <th>1</th>\n",
       "      <td>0</td>\n",
       "      <td>Concat</td>\n",
       "      <td>0.064003</td>\n",
       "    </tr>\n",
       "    <tr>\n",
       "      <th>2</th>\n",
       "      <td>1</td>\n",
       "      <td>Append</td>\n",
       "      <td>0.170516</td>\n",
       "    </tr>\n",
       "    <tr>\n",
       "      <th>3</th>\n",
       "      <td>1</td>\n",
       "      <td>Concat</td>\n",
       "      <td>0.060512</td>\n",
       "    </tr>\n",
       "    <tr>\n",
       "      <th>4</th>\n",
       "      <td>2</td>\n",
       "      <td>Append</td>\n",
       "      <td>0.161029</td>\n",
       "    </tr>\n",
       "  </tbody>\n",
       "</table>\n",
       "</div>"
      ],
      "text/plain": [
       "   level_0  Method  Time (s)\n",
       "0        0  Append  0.171050\n",
       "1        0  Concat  0.064003\n",
       "2        1  Append  0.170516\n",
       "3        1  Concat  0.060512\n",
       "4        2  Append  0.161029"
      ]
     },
     "execution_count": 1,
     "metadata": {},
     "output_type": "execute_result"
    }
   ],
   "source": [
    "import time\n",
    "import pandas as pd\n",
    "import numpy as np\n",
    "\n",
    "size_per = 5000\n",
    "N = 100\n",
    "cols = list('abcd')\n",
    "\n",
    "def timed(n=30):\n",
    "    '''\n",
    "    Running a microbenchmark. Never use this.\n",
    "    '''\n",
    "    def deco(func):\n",
    "        def wrapper(*args, **kwargs):\n",
    "            timings = []\n",
    "            for i in range(n):\n",
    "                t0 = time.time()\n",
    "                func(*args, **kwargs)\n",
    "                t1 = time.time()\n",
    "                timings.append(t1 - t0)\n",
    "            return timings\n",
    "        return wrapper\n",
    "    return deco\n",
    "    \n",
    "@timed(60)\n",
    "def append_df():\n",
    "    '''\n",
    "    The pythonic (bad) way\n",
    "    '''\n",
    "    df = pd.DataFrame(columns=cols)\n",
    "    for _ in range(N):\n",
    "        df = pd.concat([df, pd.DataFrame(np.random.randn(size_per, 4), columns=cols)], ignore_index=True)\n",
    "    return df\n",
    "\n",
    "@timed(60)\n",
    "def concat_df():\n",
    "    '''\n",
    "    The pandorabe (good) way\n",
    "    '''\n",
    "    dfs = [pd.DataFrame(np.random.randn(size_per, 4), columns=cols)\n",
    "           for _ in range(N)]\n",
    "    return pd.concat(dfs, ignore_index=True).dropna(how='all')\n",
    "t_append = append_df()\n",
    "t_concat = concat_df()\n",
    "\n",
    "timings = (pd.DataFrame({\"Append\": t_append, \"Concat\": t_concat})\n",
    "             .stack()\n",
    "             .reset_index()\n",
    "             .rename(columns={0: 'Time (s)',\n",
    "                              'level_1': 'Method'}))\n",
    "timings.head()\n"
   ]
  },
  {
   "cell_type": "code",
   "execution_count": 11,
   "metadata": {},
   "outputs": [
    {
     "data": {
      "image/png": "[encoded data removed]",
      "text/plain": [
       "<Figure size 400x600 with 1 Axes>"
      ]
     },
     "metadata": {},
     "output_type": "display_data"
    }
   ],
   "source": [
    "plt.figure(figsize=(4, 6))\n",
    "sns.boxplot(x='Method', y='Time (s)', data=timings)\n",
    "sns.despine()\n",
    "plt.tight_layout()"
   ]
  },
  {
   "cell_type": "markdown",
   "metadata": {},
   "source": [
    "##### Datatypes"
   ]
  },
  {
   "cell_type": "markdown",
   "metadata": {},
   "source": [
    "Each column should have a specific dtype; you don’t want to be mixing bools with ints with strings within a single column."
   ]
  },
  {
   "cell_type": "markdown",
   "metadata": {},
   "source": [
    "When should you have object columns?"
   ]
  },
  {
   "cell_type": "markdown",
   "metadata": {},
   "source": [
    "here are a few places where the NumPy / pandas type system isn’t as rich as you might like. There’s no integer NA (at the moment anyway), so if you have any missing values, represented by NaN, your otherwise integer column will be floats. There’s also no date dtype (distinct from datetime). Consider the needs of your application: can you treat an integer 1 as 1.0? Can you treat date(2016, 1, 1) as datetime(2016, 1, 1, 0, 0)?"
   ]
  },
  {
   "cell_type": "markdown",
   "metadata": {},
   "source": [
    "The last case of object dtype data is text data.\n",
    "If you have object data (either strings or python objects) that needs to be converted, checkout the to_numeric, to_datetime and to_timedelta methods."
   ]
  },
  {
   "cell_type": "markdown",
   "metadata": {},
   "source": [
    "##### Iteration, Apply, And Vectorization"
   ]
  },
  {
   "cell_type": "markdown",
   "metadata": {},
   "source": [
    "First,benchmark your code.\n",
    "```\n",
    "MANY OPTIONS TO BENCHMARK YOUR CODE\n",
    "https://docs.python.org/3.5/library/timeit.html\n",
    "https://jiffyclub.github.io/snakeviz/\n",
    "https://github.com/nvdv/vprof\n",
    "https://github.com/rkern/line_profiler\n",
    "```"
   ]
  },
  {
   "cell_type": "markdown",
   "metadata": {},
   "source": [
    "Second, consider your algorithm."
   ]
  },
  {
   "cell_type": "code",
   "execution_count": null,
   "metadata": {},
   "outputs": [
    {
     "name": "stdout",
     "output_type": "stream",
     "text": [
      "13.8 ms ± 82 µs per loop (mean ± std. dev. of 7 runs, 100 loops each)\n",
      "33.4 ms ± 263 µs per loop (mean ± std. dev. of 7 runs, 10 loops each)\n"
     ]
    }
   ],
   "source": [
    "df = pd.read_csv(\"T_ONTIME_REPORTING.csv\")\n",
    "delays = df['DEP_DELAY']\n",
    "delays.nlargest(5).sort_values()\n",
    "%timeit delays.nlargest(5).sort_values()\n",
    "%timeit delays.sort_values().tail(5)"
   ]
  },
  {
   "cell_type": "code",
   "execution_count": null,
   "metadata": {},
   "outputs": [
    {
     "name": "stdout",
     "output_type": "stream",
     "text": [
      "13.9 ms ± 135 µs per loop (mean ± std. dev. of 7 runs, 100 loops each)\n"
     ]
    }
   ],
   "source": [
    "delays.nsmallest(5).sort_values()"
   ]
  },
  {
   "cell_type": "markdown",
   "metadata": {},
   "source": [
    "##### Assuming you’re at a spot that needs optimizing, and you’ve got the correct algorithm, and there isn’t a readily available optimized version of what you need in pandas/numpy/scipy/scikit-learn/statsmodels/…, then what?"
   ]
  },
  {
   "cell_type": "markdown",
   "metadata": {},
   "source": [
    "The first place to turn is probably a vectorized NumPy implementation. Vectorization here means operating directly on arrays, rather than looping over lists scalars."
   ]
  },
  {
   "cell_type": "markdown",
   "metadata": {},
   "source": [
    "= Example calculating the Great-circle distance between airports"
   ]
  },
  {
   "cell_type": "code",
   "execution_count": 12,
   "metadata": {},
   "outputs": [
    {
     "data": {
      "text/html": [
       "<div>\n",
       "<style scoped>\n",
       "    .dataframe tbody tr th:only-of-type {\n",
       "        vertical-align: middle;\n",
       "    }\n",
       "\n",
       "    .dataframe tbody tr th {\n",
       "        vertical-align: top;\n",
       "    }\n",
       "\n",
       "    .dataframe thead th {\n",
       "        text-align: right;\n",
       "    }\n",
       "</style>\n",
       "<table border=\"1\" class=\"dataframe\">\n",
       "  <thead>\n",
       "    <tr style=\"text-align: right;\">\n",
       "      <th></th>\n",
       "      <th>LATITUDE</th>\n",
       "      <th>LONGITUDE</th>\n",
       "    </tr>\n",
       "    <tr>\n",
       "      <th>AIRPORT</th>\n",
       "      <th></th>\n",
       "      <th></th>\n",
       "    </tr>\n",
       "  </thead>\n",
       "  <tbody>\n",
       "    <tr>\n",
       "      <th>1NJ</th>\n",
       "      <td>41.008611</td>\n",
       "      <td>-74.738056</td>\n",
       "    </tr>\n",
       "    <tr>\n",
       "      <th>1VA</th>\n",
       "      <td>38.586389</td>\n",
       "      <td>-77.710556</td>\n",
       "    </tr>\n",
       "    <tr>\n",
       "      <th>2NY</th>\n",
       "      <td>40.827500</td>\n",
       "      <td>-73.716944</td>\n",
       "    </tr>\n",
       "    <tr>\n",
       "      <th>2WK</th>\n",
       "      <td>47.347500</td>\n",
       "      <td>-118.677222</td>\n",
       "    </tr>\n",
       "    <tr>\n",
       "      <th>4CA</th>\n",
       "      <td>38.531389</td>\n",
       "      <td>-121.786389</td>\n",
       "    </tr>\n",
       "  </tbody>\n",
       "</table>\n",
       "</div>"
      ],
      "text/plain": [
       "          LATITUDE   LONGITUDE\n",
       "AIRPORT                       \n",
       "1NJ      41.008611  -74.738056\n",
       "1VA      38.586389  -77.710556\n",
       "2NY      40.827500  -73.716944\n",
       "2WK      47.347500 -118.677222\n",
       "4CA      38.531389 -121.786389"
      ]
     },
     "execution_count": 12,
     "metadata": {},
     "output_type": "execute_result"
    }
   ],
   "source": [
    "coord = (pd.read_csv(\"T_MASTER_CORD.csv\", index_col=['AIRPORT'],\n",
    "                     usecols=['AIRPORT', 'LATITUDE', 'LONGITUDE'])\n",
    "           .groupby(level=0).first()\n",
    "           .dropna()\n",
    "           .sample(n=500, random_state=42)\n",
    "           .sort_index())\n",
    "\n",
    "coord.head()"
   ]
  },
  {
   "cell_type": "code",
   "execution_count": null,
   "metadata": {},
   "outputs": [],
   "source": [
    "#MultiIndexes have an alternative from_product constructor for getting the Cartesian product of the arrays you pass in.\n",
    "# We’ll give it coords.index twice (to get its Cartesian product with itself). \n",
    "# That gives a MultiIndex of all the combination. With some minor reshaping of coords we’ll have a DataFrame with all the latitude/longitude pairs."
   ]
  },
  {
   "cell_type": "code",
   "execution_count": 13,
   "metadata": {},
   "outputs": [
    {
     "data": {
      "text/html": [
       "<div>\n",
       "<style scoped>\n",
       "    .dataframe tbody tr th:only-of-type {\n",
       "        vertical-align: middle;\n",
       "    }\n",
       "\n",
       "    .dataframe tbody tr th {\n",
       "        vertical-align: top;\n",
       "    }\n",
       "\n",
       "    .dataframe thead th {\n",
       "        text-align: right;\n",
       "    }\n",
       "</style>\n",
       "<table border=\"1\" class=\"dataframe\">\n",
       "  <thead>\n",
       "    <tr style=\"text-align: right;\">\n",
       "      <th></th>\n",
       "      <th></th>\n",
       "      <th>LATITUDE_1</th>\n",
       "      <th>LONGITUDE_1</th>\n",
       "      <th>LATITUDE_2</th>\n",
       "      <th>LONGITUDE_2</th>\n",
       "    </tr>\n",
       "    <tr>\n",
       "      <th>origin</th>\n",
       "      <th>dest</th>\n",
       "      <th></th>\n",
       "      <th></th>\n",
       "      <th></th>\n",
       "      <th></th>\n",
       "    </tr>\n",
       "  </thead>\n",
       "  <tbody>\n",
       "    <tr>\n",
       "      <th rowspan=\"5\" valign=\"top\">1NJ</th>\n",
       "      <th>1NJ</th>\n",
       "      <td>41.008611</td>\n",
       "      <td>-74.738056</td>\n",
       "      <td>41.008611</td>\n",
       "      <td>-74.738056</td>\n",
       "    </tr>\n",
       "    <tr>\n",
       "      <th>1VA</th>\n",
       "      <td>41.008611</td>\n",
       "      <td>-74.738056</td>\n",
       "      <td>38.586389</td>\n",
       "      <td>-77.710556</td>\n",
       "    </tr>\n",
       "    <tr>\n",
       "      <th>2NY</th>\n",
       "      <td>41.008611</td>\n",
       "      <td>-74.738056</td>\n",
       "      <td>40.827500</td>\n",
       "      <td>-73.716944</td>\n",
       "    </tr>\n",
       "    <tr>\n",
       "      <th>2WK</th>\n",
       "      <td>41.008611</td>\n",
       "      <td>-74.738056</td>\n",
       "      <td>47.347500</td>\n",
       "      <td>-118.677222</td>\n",
       "    </tr>\n",
       "    <tr>\n",
       "      <th>4CA</th>\n",
       "      <td>41.008611</td>\n",
       "      <td>-74.738056</td>\n",
       "      <td>38.531389</td>\n",
       "      <td>-121.786389</td>\n",
       "    </tr>\n",
       "  </tbody>\n",
       "</table>\n",
       "</div>"
      ],
      "text/plain": [
       "             LATITUDE_1  LONGITUDE_1  LATITUDE_2  LONGITUDE_2\n",
       "origin dest                                                  \n",
       "1NJ    1NJ    41.008611   -74.738056   41.008611   -74.738056\n",
       "       1VA    41.008611   -74.738056   38.586389   -77.710556\n",
       "       2NY    41.008611   -74.738056   40.827500   -73.716944\n",
       "       2WK    41.008611   -74.738056   47.347500  -118.677222\n",
       "       4CA    41.008611   -74.738056   38.531389  -121.786389"
      ]
     },
     "execution_count": 13,
     "metadata": {},
     "output_type": "execute_result"
    }
   ],
   "source": [
    "idx = pd.MultiIndex.from_product([coord.index, coord.index],\n",
    "                                 names=['origin', 'dest'])\n",
    "\n",
    "pairs = pd.concat([coord.add_suffix('_1').reindex(idx, level='origin'),\n",
    "                   coord.add_suffix('_2').reindex(idx, level='dest')],\n",
    "                  axis=1)\n",
    "pairs.head()"
   ]
  },
  {
   "cell_type": "code",
   "execution_count": 14,
   "metadata": {},
   "outputs": [
    {
     "data": {
      "text/plain": [
       "125250"
      ]
     },
     "execution_count": 14,
     "metadata": {},
     "output_type": "execute_result"
    }
   ],
   "source": [
    "idx = idx[idx.get_level_values(0) <= idx.get_level_values(1)]\n",
    "len(idx)"
   ]
  },
  {
   "cell_type": "code",
   "execution_count": 19,
   "metadata": {},
   "outputs": [
    {
     "data": {
      "text/html": [
       "<div>\n",
       "<style scoped>\n",
       "    .dataframe tbody tr th:only-of-type {\n",
       "        vertical-align: middle;\n",
       "    }\n",
       "\n",
       "    .dataframe tbody tr th {\n",
       "        vertical-align: top;\n",
       "    }\n",
       "\n",
       "    .dataframe thead th {\n",
       "        text-align: right;\n",
       "    }\n",
       "</style>\n",
       "<table border=\"1\" class=\"dataframe\">\n",
       "  <thead>\n",
       "    <tr style=\"text-align: right;\">\n",
       "      <th></th>\n",
       "      <th>LATITUDE_1</th>\n",
       "      <th>LONGITUDE_1</th>\n",
       "    </tr>\n",
       "    <tr>\n",
       "      <th>AIRPORT</th>\n",
       "      <th></th>\n",
       "      <th></th>\n",
       "    </tr>\n",
       "  </thead>\n",
       "  <tbody>\n",
       "    <tr>\n",
       "      <th>1NJ</th>\n",
       "      <td>41.008611</td>\n",
       "      <td>-74.738056</td>\n",
       "    </tr>\n",
       "    <tr>\n",
       "      <th>1VA</th>\n",
       "      <td>38.586389</td>\n",
       "      <td>-77.710556</td>\n",
       "    </tr>\n",
       "    <tr>\n",
       "      <th>2NY</th>\n",
       "      <td>40.827500</td>\n",
       "      <td>-73.716944</td>\n",
       "    </tr>\n",
       "    <tr>\n",
       "      <th>2WK</th>\n",
       "      <td>47.347500</td>\n",
       "      <td>-118.677222</td>\n",
       "    </tr>\n",
       "    <tr>\n",
       "      <th>4CA</th>\n",
       "      <td>38.531389</td>\n",
       "      <td>-121.786389</td>\n",
       "    </tr>\n",
       "    <tr>\n",
       "      <th>...</th>\n",
       "      <td>...</td>\n",
       "      <td>...</td>\n",
       "    </tr>\n",
       "    <tr>\n",
       "      <th>ZMD</th>\n",
       "      <td>-9.071389</td>\n",
       "      <td>-68.654722</td>\n",
       "    </tr>\n",
       "    <tr>\n",
       "      <th>ZOF</th>\n",
       "      <td>52.366667</td>\n",
       "      <td>-127.700000</td>\n",
       "    </tr>\n",
       "    <tr>\n",
       "      <th>ZRH</th>\n",
       "      <td>47.458333</td>\n",
       "      <td>8.551667</td>\n",
       "    </tr>\n",
       "    <tr>\n",
       "      <th>ZVA</th>\n",
       "      <td>-19.560833</td>\n",
       "      <td>45.451389</td>\n",
       "    </tr>\n",
       "    <tr>\n",
       "      <th>ZXJ</th>\n",
       "      <td>55.488333</td>\n",
       "      <td>-132.333333</td>\n",
       "    </tr>\n",
       "  </tbody>\n",
       "</table>\n",
       "<p>500 rows × 2 columns</p>\n",
       "</div>"
      ],
      "text/plain": [
       "         LATITUDE_1  LONGITUDE_1\n",
       "AIRPORT                         \n",
       "1NJ       41.008611   -74.738056\n",
       "1VA       38.586389   -77.710556\n",
       "2NY       40.827500   -73.716944\n",
       "2WK       47.347500  -118.677222\n",
       "4CA       38.531389  -121.786389\n",
       "...             ...          ...\n",
       "ZMD       -9.071389   -68.654722\n",
       "ZOF       52.366667  -127.700000\n",
       "ZRH       47.458333     8.551667\n",
       "ZVA      -19.560833    45.451389\n",
       "ZXJ       55.488333  -132.333333\n",
       "\n",
       "[500 rows x 2 columns]"
      ]
     },
     "execution_count": 19,
     "metadata": {},
     "output_type": "execute_result"
    }
   ],
   "source": [
    "coord.rename(columns=lambda x: x + '_1')"
   ]
  },
  {
   "cell_type": "code",
   "execution_count": 21,
   "metadata": {},
   "outputs": [
    {
     "data": {
      "text/html": [
       "<div>\n",
       "<style scoped>\n",
       "    .dataframe tbody tr th:only-of-type {\n",
       "        vertical-align: middle;\n",
       "    }\n",
       "\n",
       "    .dataframe tbody tr th {\n",
       "        vertical-align: top;\n",
       "    }\n",
       "\n",
       "    .dataframe thead th {\n",
       "        text-align: right;\n",
       "    }\n",
       "</style>\n",
       "<table border=\"1\" class=\"dataframe\">\n",
       "  <thead>\n",
       "    <tr style=\"text-align: right;\">\n",
       "      <th></th>\n",
       "      <th></th>\n",
       "      <th>LATITUDE</th>\n",
       "      <th>LONGITUDE</th>\n",
       "    </tr>\n",
       "    <tr>\n",
       "      <th>origin</th>\n",
       "      <th>dest</th>\n",
       "      <th></th>\n",
       "      <th></th>\n",
       "    </tr>\n",
       "  </thead>\n",
       "  <tbody>\n",
       "    <tr>\n",
       "      <th rowspan=\"5\" valign=\"top\">1NJ</th>\n",
       "      <th>1NJ</th>\n",
       "      <td>41.008611</td>\n",
       "      <td>-74.738056</td>\n",
       "    </tr>\n",
       "    <tr>\n",
       "      <th>1VA</th>\n",
       "      <td>38.586389</td>\n",
       "      <td>-77.710556</td>\n",
       "    </tr>\n",
       "    <tr>\n",
       "      <th>2NY</th>\n",
       "      <td>40.827500</td>\n",
       "      <td>-73.716944</td>\n",
       "    </tr>\n",
       "    <tr>\n",
       "      <th>2WK</th>\n",
       "      <td>47.347500</td>\n",
       "      <td>-118.677222</td>\n",
       "    </tr>\n",
       "    <tr>\n",
       "      <th>4CA</th>\n",
       "      <td>38.531389</td>\n",
       "      <td>-121.786389</td>\n",
       "    </tr>\n",
       "  </tbody>\n",
       "</table>\n",
       "</div>"
      ],
      "text/plain": [
       "              LATITUDE   LONGITUDE\n",
       "origin dest                       \n",
       "1NJ    1NJ   41.008611  -74.738056\n",
       "       1VA   38.586389  -77.710556\n",
       "       2NY   40.827500  -73.716944\n",
       "       2WK   47.347500 -118.677222\n",
       "       4CA   38.531389 -121.786389"
      ]
     },
     "execution_count": 21,
     "metadata": {},
     "output_type": "execute_result"
    }
   ],
   "source": [
    "coord.reindex(idx, level='dest').head()\n"
   ]
  },
  {
   "cell_type": "code",
   "execution_count": 22,
   "metadata": {},
   "outputs": [
    {
     "data": {
      "text/html": [
       "<div>\n",
       "<style scoped>\n",
       "    .dataframe tbody tr th:only-of-type {\n",
       "        vertical-align: middle;\n",
       "    }\n",
       "\n",
       "    .dataframe tbody tr th {\n",
       "        vertical-align: top;\n",
       "    }\n",
       "\n",
       "    .dataframe thead th {\n",
       "        text-align: right;\n",
       "    }\n",
       "</style>\n",
       "<table border=\"1\" class=\"dataframe\">\n",
       "  <thead>\n",
       "    <tr style=\"text-align: right;\">\n",
       "      <th></th>\n",
       "      <th></th>\n",
       "      <th>LATITUDE_1</th>\n",
       "      <th>LONGITUDE_1</th>\n",
       "      <th>LATITUDE_1</th>\n",
       "      <th>LONGITUDE_2</th>\n",
       "    </tr>\n",
       "    <tr>\n",
       "      <th>origin</th>\n",
       "      <th>dest</th>\n",
       "      <th></th>\n",
       "      <th></th>\n",
       "      <th></th>\n",
       "      <th></th>\n",
       "    </tr>\n",
       "  </thead>\n",
       "  <tbody>\n",
       "    <tr>\n",
       "      <th rowspan=\"5\" valign=\"top\">1NJ</th>\n",
       "      <th>1NJ</th>\n",
       "      <td>41.008611</td>\n",
       "      <td>-74.738056</td>\n",
       "      <td>41.008611</td>\n",
       "      <td>-74.738056</td>\n",
       "    </tr>\n",
       "    <tr>\n",
       "      <th>1VA</th>\n",
       "      <td>41.008611</td>\n",
       "      <td>-74.738056</td>\n",
       "      <td>38.586389</td>\n",
       "      <td>-77.710556</td>\n",
       "    </tr>\n",
       "    <tr>\n",
       "      <th>2NY</th>\n",
       "      <td>41.008611</td>\n",
       "      <td>-74.738056</td>\n",
       "      <td>40.827500</td>\n",
       "      <td>-73.716944</td>\n",
       "    </tr>\n",
       "    <tr>\n",
       "      <th>2WK</th>\n",
       "      <td>41.008611</td>\n",
       "      <td>-74.738056</td>\n",
       "      <td>47.347500</td>\n",
       "      <td>-118.677222</td>\n",
       "    </tr>\n",
       "    <tr>\n",
       "      <th>4CA</th>\n",
       "      <td>41.008611</td>\n",
       "      <td>-74.738056</td>\n",
       "      <td>38.531389</td>\n",
       "      <td>-121.786389</td>\n",
       "    </tr>\n",
       "  </tbody>\n",
       "</table>\n",
       "</div>"
      ],
      "text/plain": [
       "             LATITUDE_1  LONGITUDE_1  LATITUDE_1  LONGITUDE_2\n",
       "origin dest                                                  \n",
       "1NJ    1NJ    41.008611   -74.738056   41.008611   -74.738056\n",
       "       1VA    41.008611   -74.738056   38.586389   -77.710556\n",
       "       2NY    41.008611   -74.738056   40.827500   -73.716944\n",
       "       2WK    41.008611   -74.738056   47.347500  -118.677222\n",
       "       4CA    41.008611   -74.738056   38.531389  -121.786389"
      ]
     },
     "execution_count": 22,
     "metadata": {},
     "output_type": "execute_result"
    }
   ],
   "source": [
    "from itertools import product, chain\n",
    "coord2 = coord.reset_index()\n",
    "x = product(coord2.add_suffix('_1').itertuples(index=False),\n",
    "            coord2.add_suffix('_2').itertuples(index=False))\n",
    "y = [list(chain.from_iterable(z)) for z in x]\n",
    "\n",
    "df2 = (pd.DataFrame(y, columns=['origin', 'LATITUDE_1', 'LONGITUDE_1',\n",
    "                                'dest', 'LATITUDE_1', 'LONGITUDE_2'])\n",
    "       .set_index(['origin', 'dest']))\n",
    "df2.head()"
   ]
  },
  {
   "cell_type": "code",
   "execution_count": 26,
   "metadata": {},
   "outputs": [],
   "source": [
    "import math\n",
    "\n",
    "def gcd_py(lat1, lng1, lat2, lng2):\n",
    "    '''\n",
    "    Calculate great circle distance between two points.\n",
    "    http://www.johndcook.com/blog/python_longitude_latitude/\n",
    "    \n",
    "    Parameters\n",
    "    ----------\n",
    "    lat1, lng1, lat2, lng2: float\n",
    "    \n",
    "    Returns\n",
    "    -------\n",
    "    distance:\n",
    "      distance from ``(lat1, lng1)`` to ``(lat2, lng2)`` in kilometers.\n",
    "    '''\n",
    "    # python2 users will have to use ascii identifiers (or upgrade)\n",
    "    degrees_to_radians = math.pi / 180.0\n",
    "    ϕ1 = (90 - lat1) * degrees_to_radians\n",
    "    ϕ2 = (90 - lat2) * degrees_to_radians\n",
    "    \n",
    "    θ1 = lng1 * degrees_to_radians\n",
    "    θ2 = lng2 * degrees_to_radians\n",
    "    \n",
    "    cos = (math.sin(ϕ1) * math.sin(ϕ2) * math.cos(θ1 - θ2) +\n",
    "           math.cos(ϕ1) * math.cos(ϕ2))\n",
    "    # round to avoid precision issues on identical points causing ValueErrors\n",
    "    cos = round(cos, 8)\n",
    "    arc = math.acos(cos)\n",
    "    return arc * 6373  # radius of earth, in kilometers\n",
    "def gcd_vec(lat1, lng1, lat2, lng2):\n",
    "    '''\n",
    "    Calculate great circle distance.\n",
    "    http://www.johndcook.com/blog/python_longitude_latitude/\n",
    "    \n",
    "    Parameters\n",
    "    ----------\n",
    "    lat1, lng1, lat2, lng2: float or array of float\n",
    "    \n",
    "    Returns\n",
    "    -------\n",
    "    distance:\n",
    "      distance from ``(lat1, lng1)`` to ``(lat2, lng2)`` in kilometers.\n",
    "    '''\n",
    "    # python2 users will have to use ascii identifiers\n",
    "    ϕ1 = np.deg2rad(90 - lat1)\n",
    "    ϕ2 = np.deg2rad(90 - lat2)\n",
    "    \n",
    "    θ1 = np.deg2rad(lng1)\n",
    "    θ2 = np.deg2rad(lng2)\n",
    "    \n",
    "    cos = (np.sin(ϕ1) * np.sin(ϕ2) * np.cos(θ1 - θ2) +\n",
    "           np.cos(ϕ1) * np.cos(ϕ2))\n",
    "    arc = np.arccos(cos)\n",
    "    return arc * 6373"
   ]
  },
  {
   "cell_type": "code",
   "execution_count": 27,
   "metadata": {},
   "outputs": [
    {
     "name": "stdout",
     "output_type": "stream",
     "text": [
      "CPU times: total: 484 ms\n",
      "Wall time: 430 ms\n"
     ]
    },
    {
     "data": {
      "text/plain": [
       "origin  dest\n",
       "1NJ     1NJ         0.000000\n",
       "        1VA       370.247124\n",
       "        2NY        88.155673\n",
       "        2WK      3526.541500\n",
       "        4CA      3982.914226\n",
       "                    ...     \n",
       "ZXJ     ZMD      9255.872138\n",
       "        ZOF       460.935787\n",
       "        ZRH      8002.640965\n",
       "        ZVA     16020.828527\n",
       "        ZXJ         0.000000\n",
       "Length: 250000, dtype: float64"
      ]
     },
     "execution_count": 27,
     "metadata": {},
     "output_type": "execute_result"
    }
   ],
   "source": [
    "%%time\n",
    "pd.Series([gcd_py(*x) for x in pairs.itertuples(index=False)],\n",
    "          index=pairs.index)"
   ]
  },
  {
   "cell_type": "code",
   "execution_count": 28,
   "metadata": {},
   "outputs": [
    {
     "name": "stdout",
     "output_type": "stream",
     "text": [
      "CPU times: total: 2.53 s\n",
      "Wall time: 2.26 s\n"
     ]
    }
   ],
   "source": [
    "%%time\n",
    "r = pairs.apply(lambda x: gcd_py(x['LATITUDE_1'], x['LONGITUDE_1'],\n",
    "                                 x['LATITUDE_2'], x['LONGITUDE_2']), axis=1);"
   ]
  },
  {
   "cell_type": "markdown",
   "metadata": {},
   "source": [
    "##### Categoricals"
   ]
  },
  {
   "cell_type": "markdown",
   "metadata": {},
   "source": [
    " - Are a efficient way to representing data (typically strings) that have a low cardinalit, i.e. relatively few distinct values relative to the size of array.\n",
    " - Categorical stores the categories once, and an array of codesm witch are just integers that indicate which category belongs there."
   ]
  },
  {
   "cell_type": "code",
   "execution_count": 29,
   "metadata": {},
   "outputs": [
    {
     "name": "stdout",
     "output_type": "stream",
     "text": [
      "800.00 KB\n"
     ]
    }
   ],
   "source": [
    "import string\n",
    "\n",
    "s = pd.Series(np.random.choice(list(string.ascii_letters),100000))\n",
    "print('{:0.2f} KB'.format(s.memory_usage(index=False)/1000))"
   ]
  },
  {
   "cell_type": "code",
   "execution_count": 30,
   "metadata": {},
   "outputs": [
    {
     "name": "stdout",
     "output_type": "stream",
     "text": [
      "102.52 KB\n"
     ]
    }
   ],
   "source": [
    "c = s.astype('category')\n",
    "print('{:0.2f} KB'.format(c.memory_usage(index=False) / 1000))"
   ]
  },
  {
   "cell_type": "markdown",
   "metadata": {},
   "source": [
    "```\n",
    "https://matthewrocklin.com/blog/work/2015/06/18/Categoricals to optimization\n",
    "```"
   ]
  },
  {
   "cell_type": "code",
   "execution_count": 75,
   "metadata": {},
   "outputs": [
    {
     "data": {
      "text/plain": [
       "name        object\n",
       "balance    float64\n",
       "gender      object\n",
       "dtype: object"
      ]
     },
     "execution_count": 75,
     "metadata": {},
     "output_type": "execute_result"
    }
   ],
   "source": [
    "df = pd.DataFrame({'name': ['Alice', 'Bob', 'Charlie', 'Danielle'],\n",
    "                  'balance': [100.0, 200.0, 300.0, 400.0],\n",
    "                 'gender': ['Female', 'Male', 'Male', 'Female']},\n",
    "                columns=['name', 'balance', 'gender'])\n",
    "df.dtypes\n",
    "# Oh no!  Slow object dtypes!\n"
   ]
  },
  {
   "cell_type": "markdown",
   "metadata": {},
   "source": [
    "This integer array is more compact and is now a normal C array. This allows for normal C-speeds on previously slow object dtype columns. Categorizing a column is easy:"
   ]
  },
  {
   "cell_type": "code",
   "execution_count": null,
   "metadata": {},
   "outputs": [],
   "source": [
    "df['gender'] = df['gender'].astype('category')  # Categorize!"
   ]
  },
  {
   "cell_type": "code",
   "execution_count": 73,
   "metadata": {},
   "outputs": [
    {
     "data": {
      "text/plain": [
       "Index(['Female', 'Male'], dtype='object')"
      ]
     },
     "execution_count": 73,
     "metadata": {},
     "output_type": "execute_result"
    }
   ],
   "source": [
    "# Way to do a category index\n",
    "df.gender.cat.categories"
   ]
  },
  {
   "cell_type": "code",
   "execution_count": 74,
   "metadata": {},
   "outputs": [
    {
     "data": {
      "text/plain": [
       "0    0\n",
       "1    1\n",
       "2    1\n",
       "3    0\n",
       "dtype: int8"
      ]
     },
     "execution_count": 74,
     "metadata": {},
     "output_type": "execute_result"
    }
   ],
   "source": [
    "# Numerical values\n",
    "df.gender.cat.codes "
   ]
  },
  {
   "cell_type": "markdown",
   "metadata": {},
   "source": [
    "Pandas Categoricals efficiently encode repetitive text data. Categoricals are useful for data like stock symbols, gender, experiment outcomes, cities, states, etc.. Categoricals are easy to use and greatly improve performance on this data."
   ]
  },
  {
   "cell_type": "markdown",
   "metadata": {},
   "source": [
    "# Morden Pandas Part 5"
   ]
  },
  {
   "cell_type": "code",
   "execution_count": 24,
   "metadata": {},
   "outputs": [],
   "source": [
    "%matplotlib inline\n",
    "\n",
    "import os\n",
    "import numpy as np\n",
    "import pandas as pd\n",
    "import seaborn as sns\n",
    "import matplotlib.pyplot as plt\n",
    "\n",
    "if int(os.environ.get(\"MODERN PANDAS\", 0)):\n",
    "    import prep # noqa\n",
    "\n",
    "pd.options.display.max_rows = 10\n",
    "sns.set_theme(style='ticks', context='talk')"
   ]
  },
  {
   "cell_type": "code",
   "execution_count": 25,
   "metadata": {},
   "outputs": [
    {
     "data": {
      "text/html": [
       "<div>\n",
       "<style scoped>\n",
       "    .dataframe tbody tr th:only-of-type {\n",
       "        vertical-align: middle;\n",
       "    }\n",
       "\n",
       "    .dataframe tbody tr th {\n",
       "        vertical-align: top;\n",
       "    }\n",
       "\n",
       "    .dataframe thead th {\n",
       "        text-align: right;\n",
       "    }\n",
       "</style>\n",
       "<table border=\"1\" class=\"dataframe\">\n",
       "  <thead>\n",
       "    <tr style=\"text-align: right;\">\n",
       "      <th></th>\n",
       "      <th>Unnamed: 0</th>\n",
       "      <th>Date</th>\n",
       "      <th>Start (ET)</th>\n",
       "      <th>Visitor/Neutral</th>\n",
       "      <th>PTS</th>\n",
       "      <th>Home/Neutral</th>\n",
       "      <th>PTS.1</th>\n",
       "      <th>Unnamed: 6</th>\n",
       "      <th>Unnamed: 7</th>\n",
       "      <th>Attend.</th>\n",
       "      <th>LOG</th>\n",
       "      <th>Arena</th>\n",
       "      <th>Notes</th>\n",
       "    </tr>\n",
       "  </thead>\n",
       "  <tbody>\n",
       "    <tr>\n",
       "      <th>0</th>\n",
       "      <td>0</td>\n",
       "      <td>Tue, Oct 27, 2015</td>\n",
       "      <td>8:00p</td>\n",
       "      <td>Cleveland Cavaliers</td>\n",
       "      <td>95</td>\n",
       "      <td>Chicago Bulls</td>\n",
       "      <td>97</td>\n",
       "      <td>Box Score</td>\n",
       "      <td>NaN</td>\n",
       "      <td>21957</td>\n",
       "      <td>2:22</td>\n",
       "      <td>United Center</td>\n",
       "      <td>NaN</td>\n",
       "    </tr>\n",
       "    <tr>\n",
       "      <th>1</th>\n",
       "      <td>1</td>\n",
       "      <td>Tue, Oct 27, 2015</td>\n",
       "      <td>8:00p</td>\n",
       "      <td>Detroit Pistons</td>\n",
       "      <td>106</td>\n",
       "      <td>Atlanta Hawks</td>\n",
       "      <td>94</td>\n",
       "      <td>Box Score</td>\n",
       "      <td>NaN</td>\n",
       "      <td>19187</td>\n",
       "      <td>2:10</td>\n",
       "      <td>Philips Arena</td>\n",
       "      <td>NaN</td>\n",
       "    </tr>\n",
       "    <tr>\n",
       "      <th>2</th>\n",
       "      <td>2</td>\n",
       "      <td>Tue, Oct 27, 2015</td>\n",
       "      <td>10:30p</td>\n",
       "      <td>New Orleans Pelicans</td>\n",
       "      <td>95</td>\n",
       "      <td>Golden State Warriors</td>\n",
       "      <td>111</td>\n",
       "      <td>Box Score</td>\n",
       "      <td>NaN</td>\n",
       "      <td>19596</td>\n",
       "      <td>2:24</td>\n",
       "      <td>Oracle Arena</td>\n",
       "      <td>NaN</td>\n",
       "    </tr>\n",
       "    <tr>\n",
       "      <th>3</th>\n",
       "      <td>3</td>\n",
       "      <td>Wed, Oct 28, 2015</td>\n",
       "      <td>7:00p</td>\n",
       "      <td>Washington Wizards</td>\n",
       "      <td>88</td>\n",
       "      <td>Orlando Magic</td>\n",
       "      <td>87</td>\n",
       "      <td>Box Score</td>\n",
       "      <td>NaN</td>\n",
       "      <td>18846</td>\n",
       "      <td>2:21</td>\n",
       "      <td>Amway Center</td>\n",
       "      <td>NaN</td>\n",
       "    </tr>\n",
       "    <tr>\n",
       "      <th>4</th>\n",
       "      <td>4</td>\n",
       "      <td>Wed, Oct 28, 2015</td>\n",
       "      <td>7:30p</td>\n",
       "      <td>Philadelphia 76ers</td>\n",
       "      <td>95</td>\n",
       "      <td>Boston Celtics</td>\n",
       "      <td>112</td>\n",
       "      <td>Box Score</td>\n",
       "      <td>NaN</td>\n",
       "      <td>18624</td>\n",
       "      <td>2:13</td>\n",
       "      <td>TD Garden</td>\n",
       "      <td>NaN</td>\n",
       "    </tr>\n",
       "  </tbody>\n",
       "</table>\n",
       "</div>"
      ],
      "text/plain": [
       "   Unnamed: 0               Date Start (ET)       Visitor/Neutral  PTS  \\\n",
       "0           0  Tue, Oct 27, 2015      8:00p   Cleveland Cavaliers   95   \n",
       "1           1  Tue, Oct 27, 2015      8:00p       Detroit Pistons  106   \n",
       "2           2  Tue, Oct 27, 2015     10:30p  New Orleans Pelicans   95   \n",
       "3           3  Wed, Oct 28, 2015      7:00p    Washington Wizards   88   \n",
       "4           4  Wed, Oct 28, 2015      7:30p    Philadelphia 76ers   95   \n",
       "\n",
       "            Home/Neutral  PTS.1 Unnamed: 6 Unnamed: 7  Attend.   LOG  \\\n",
       "0          Chicago Bulls     97  Box Score        NaN    21957  2:22   \n",
       "1          Atlanta Hawks     94  Box Score        NaN    19187  2:10   \n",
       "2  Golden State Warriors    111  Box Score        NaN    19596  2:24   \n",
       "3          Orlando Magic     87  Box Score        NaN    18846  2:21   \n",
       "4         Boston Celtics    112  Box Score        NaN    18624  2:13   \n",
       "\n",
       "           Arena  Notes  \n",
       "0  United Center    NaN  \n",
       "1  Philips Arena    NaN  \n",
       "2   Oracle Arena    NaN  \n",
       "3   Amway Center    NaN  \n",
       "4      TD Garden    NaN  "
      ]
     },
     "execution_count": 25,
     "metadata": {},
     "output_type": "execute_result"
    }
   ],
   "source": [
    "fp = 'nba.csv'\n",
    "\n",
    "if not os.path.exists(fp):\n",
    "    tables = pd.read_html(\"http://www.basketball-reference.com/leagues/NBA_2016_games.html\")\n",
    "    games = tables[0]\n",
    "    games.to_csv(fp)\n",
    "else:\n",
    "    games = pd.read_csv(fp)\n",
    "games.head()"
   ]
  },
  {
   "cell_type": "markdown",
   "metadata": {},
   "source": [
    "##### How many days of rest did each team get between each game?"
   ]
  },
  {
   "cell_type": "code",
   "execution_count": 26,
   "metadata": {},
   "outputs": [
    {
     "data": {
      "text/html": [
       "<div>\n",
       "<style scoped>\n",
       "    .dataframe tbody tr th:only-of-type {\n",
       "        vertical-align: middle;\n",
       "    }\n",
       "\n",
       "    .dataframe tbody tr th {\n",
       "        vertical-align: top;\n",
       "    }\n",
       "\n",
       "    .dataframe thead th {\n",
       "        text-align: right;\n",
       "    }\n",
       "</style>\n",
       "<table border=\"1\" class=\"dataframe\">\n",
       "  <thead>\n",
       "    <tr style=\"text-align: right;\">\n",
       "      <th></th>\n",
       "      <th></th>\n",
       "      <th>away_team</th>\n",
       "      <th>away_points</th>\n",
       "      <th>home_team</th>\n",
       "      <th>home_points</th>\n",
       "    </tr>\n",
       "    <tr>\n",
       "      <th>game_id</th>\n",
       "      <th>date</th>\n",
       "      <th></th>\n",
       "      <th></th>\n",
       "      <th></th>\n",
       "      <th></th>\n",
       "    </tr>\n",
       "  </thead>\n",
       "  <tbody>\n",
       "    <tr>\n",
       "      <th>0</th>\n",
       "      <th>2015-10-27</th>\n",
       "      <td>Cleveland Cavaliers</td>\n",
       "      <td>95</td>\n",
       "      <td>Chicago Bulls</td>\n",
       "      <td>97</td>\n",
       "    </tr>\n",
       "    <tr>\n",
       "      <th>1</th>\n",
       "      <th>2015-10-27</th>\n",
       "      <td>Detroit Pistons</td>\n",
       "      <td>106</td>\n",
       "      <td>Atlanta Hawks</td>\n",
       "      <td>94</td>\n",
       "    </tr>\n",
       "    <tr>\n",
       "      <th>2</th>\n",
       "      <th>2015-10-27</th>\n",
       "      <td>New Orleans Pelicans</td>\n",
       "      <td>95</td>\n",
       "      <td>Golden State Warriors</td>\n",
       "      <td>111</td>\n",
       "    </tr>\n",
       "    <tr>\n",
       "      <th>3</th>\n",
       "      <th>2015-10-28</th>\n",
       "      <td>Washington Wizards</td>\n",
       "      <td>88</td>\n",
       "      <td>Orlando Magic</td>\n",
       "      <td>87</td>\n",
       "    </tr>\n",
       "    <tr>\n",
       "      <th>4</th>\n",
       "      <th>2015-10-28</th>\n",
       "      <td>Philadelphia 76ers</td>\n",
       "      <td>95</td>\n",
       "      <td>Boston Celtics</td>\n",
       "      <td>112</td>\n",
       "    </tr>\n",
       "  </tbody>\n",
       "</table>\n",
       "</div>"
      ],
      "text/plain": [
       "                               away_team  away_points              home_team  \\\n",
       "game_id date                                                                   \n",
       "0       2015-10-27   Cleveland Cavaliers           95          Chicago Bulls   \n",
       "1       2015-10-27       Detroit Pistons          106          Atlanta Hawks   \n",
       "2       2015-10-27  New Orleans Pelicans           95  Golden State Warriors   \n",
       "3       2015-10-28    Washington Wizards           88          Orlando Magic   \n",
       "4       2015-10-28    Philadelphia 76ers           95         Boston Celtics   \n",
       "\n",
       "                    home_points  \n",
       "game_id date                     \n",
       "0       2015-10-27           97  \n",
       "1       2015-10-27           94  \n",
       "2       2015-10-27          111  \n",
       "3       2015-10-28           87  \n",
       "4       2015-10-28          112  "
      ]
     },
     "execution_count": 26,
     "metadata": {},
     "output_type": "execute_result"
    }
   ],
   "source": [
    "column_names = {'Date': 'date', 'Start (ET)': 'start',\n",
    "                'Unamed: 2': 'box', 'Visitor/Neutral': 'away_team', \n",
    "                'PTS': 'away_points', 'Home/Neutral': 'home_team',\n",
    "                'PTS.1': 'home_points', 'Unamed: 7': 'n_ot'}\n",
    "\n",
    "games = (games.rename(columns=column_names)\n",
    "    .dropna(thresh=4)\n",
    "    [['date', 'away_team', 'away_points', 'home_team', 'home_points']]\n",
    "    .assign(date=lambda x: pd.to_datetime(x['date'], format='%a, %b %d, %Y'))\n",
    "    .set_index('date', append=True)\n",
    "    .rename_axis([\"game_id\", \"date\"])\n",
    "    .sort_index())\n",
    "games.head()"
   ]
  },
  {
   "cell_type": "code",
   "execution_count": 27,
   "metadata": {},
   "outputs": [
    {
     "data": {
      "text/html": [
       "<div>\n",
       "<style scoped>\n",
       "    .dataframe tbody tr th:only-of-type {\n",
       "        vertical-align: middle;\n",
       "    }\n",
       "\n",
       "    .dataframe tbody tr th {\n",
       "        vertical-align: top;\n",
       "    }\n",
       "\n",
       "    .dataframe thead th {\n",
       "        text-align: right;\n",
       "    }\n",
       "</style>\n",
       "<table border=\"1\" class=\"dataframe\">\n",
       "  <thead>\n",
       "    <tr style=\"text-align: right;\">\n",
       "      <th></th>\n",
       "      <th>game_id</th>\n",
       "      <th>date</th>\n",
       "      <th>variable</th>\n",
       "      <th>team</th>\n",
       "    </tr>\n",
       "  </thead>\n",
       "  <tbody>\n",
       "    <tr>\n",
       "      <th>0</th>\n",
       "      <td>0</td>\n",
       "      <td>2015-10-27</td>\n",
       "      <td>away_team</td>\n",
       "      <td>Cleveland Cavaliers</td>\n",
       "    </tr>\n",
       "    <tr>\n",
       "      <th>1</th>\n",
       "      <td>1</td>\n",
       "      <td>2015-10-27</td>\n",
       "      <td>away_team</td>\n",
       "      <td>Detroit Pistons</td>\n",
       "    </tr>\n",
       "    <tr>\n",
       "      <th>2</th>\n",
       "      <td>2</td>\n",
       "      <td>2015-10-27</td>\n",
       "      <td>away_team</td>\n",
       "      <td>New Orleans Pelicans</td>\n",
       "    </tr>\n",
       "    <tr>\n",
       "      <th>3</th>\n",
       "      <td>3</td>\n",
       "      <td>2015-10-28</td>\n",
       "      <td>away_team</td>\n",
       "      <td>Washington Wizards</td>\n",
       "    </tr>\n",
       "    <tr>\n",
       "      <th>4</th>\n",
       "      <td>4</td>\n",
       "      <td>2015-10-28</td>\n",
       "      <td>away_team</td>\n",
       "      <td>Philadelphia 76ers</td>\n",
       "    </tr>\n",
       "  </tbody>\n",
       "</table>\n",
       "</div>"
      ],
      "text/plain": [
       "   game_id       date   variable                  team\n",
       "0        0 2015-10-27  away_team   Cleveland Cavaliers\n",
       "1        1 2015-10-27  away_team       Detroit Pistons\n",
       "2        2 2015-10-27  away_team  New Orleans Pelicans\n",
       "3        3 2015-10-28  away_team    Washington Wizards\n",
       "4        4 2015-10-28  away_team    Philadelphia 76ers"
      ]
     },
     "execution_count": 27,
     "metadata": {},
     "output_type": "execute_result"
    }
   ],
   "source": [
    "tidy = pd.melt(games.reset_index(),\n",
    "               id_vars=['game_id', 'date'], value_vars=['away_team', 'home_team'],\n",
    "               value_name='team')\n",
    "tidy.head()"
   ]
  },
  {
   "cell_type": "markdown",
   "metadata": {},
   "source": [
    " Now the translation from question (“How many days of rest between games”) to operation (“date of today’s game - date of previous game - 1”) is direct:"
   ]
  },
  {
   "cell_type": "code",
   "execution_count": 28,
   "metadata": {},
   "outputs": [
    {
     "data": {
      "text/plain": [
       "0     NaN\n",
       "1     NaN\n",
       "2     NaN\n",
       "3     NaN\n",
       "4     NaN\n",
       "     ... \n",
       "71    0.0\n",
       "72    2.0\n",
       "73    2.0\n",
       "74    2.0\n",
       "75    1.0\n",
       "Name: date, Length: 76, dtype: float64"
      ]
     },
     "execution_count": 28,
     "metadata": {},
     "output_type": "execute_result"
    }
   ],
   "source": [
    "tidy.groupby('team')['date'].diff().dt.days -1"
   ]
  },
  {
   "cell_type": "code",
   "execution_count": 29,
   "metadata": {},
   "outputs": [
    {
     "data": {
      "text/html": [
       "<div>\n",
       "<style scoped>\n",
       "    .dataframe tbody tr th:only-of-type {\n",
       "        vertical-align: middle;\n",
       "    }\n",
       "\n",
       "    .dataframe tbody tr th {\n",
       "        vertical-align: top;\n",
       "    }\n",
       "\n",
       "    .dataframe thead th {\n",
       "        text-align: right;\n",
       "    }\n",
       "</style>\n",
       "<table border=\"1\" class=\"dataframe\">\n",
       "  <thead>\n",
       "    <tr style=\"text-align: right;\">\n",
       "      <th></th>\n",
       "      <th>game_id</th>\n",
       "      <th>date</th>\n",
       "      <th>variable</th>\n",
       "      <th>team</th>\n",
       "      <th>rest</th>\n",
       "    </tr>\n",
       "  </thead>\n",
       "  <tbody>\n",
       "    <tr>\n",
       "      <th>5</th>\n",
       "      <td>5</td>\n",
       "      <td>2015-10-28</td>\n",
       "      <td>away_team</td>\n",
       "      <td>Chicago Bulls</td>\n",
       "      <td>0.0</td>\n",
       "    </tr>\n",
       "    <tr>\n",
       "      <th>11</th>\n",
       "      <td>11</td>\n",
       "      <td>2015-10-28</td>\n",
       "      <td>away_team</td>\n",
       "      <td>Cleveland Cavaliers</td>\n",
       "      <td>0.0</td>\n",
       "    </tr>\n",
       "    <tr>\n",
       "      <th>14</th>\n",
       "      <td>14</td>\n",
       "      <td>2015-10-28</td>\n",
       "      <td>away_team</td>\n",
       "      <td>New Orleans Pelicans</td>\n",
       "      <td>0.0</td>\n",
       "    </tr>\n",
       "    <tr>\n",
       "      <th>17</th>\n",
       "      <td>17</td>\n",
       "      <td>2015-10-29</td>\n",
       "      <td>away_team</td>\n",
       "      <td>Memphis Grizzlies</td>\n",
       "      <td>0.0</td>\n",
       "    </tr>\n",
       "    <tr>\n",
       "      <th>18</th>\n",
       "      <td>18</td>\n",
       "      <td>2015-10-29</td>\n",
       "      <td>away_team</td>\n",
       "      <td>Atlanta Hawks</td>\n",
       "      <td>1.0</td>\n",
       "    </tr>\n",
       "  </tbody>\n",
       "</table>\n",
       "</div>"
      ],
      "text/plain": [
       "    game_id       date   variable                  team  rest\n",
       "5         5 2015-10-28  away_team         Chicago Bulls   0.0\n",
       "11       11 2015-10-28  away_team   Cleveland Cavaliers   0.0\n",
       "14       14 2015-10-28  away_team  New Orleans Pelicans   0.0\n",
       "17       17 2015-10-29  away_team     Memphis Grizzlies   0.0\n",
       "18       18 2015-10-29  away_team         Atlanta Hawks   1.0"
      ]
     },
     "execution_count": 29,
     "metadata": {},
     "output_type": "execute_result"
    }
   ],
   "source": [
    "tidy['rest'] = tidy.sort_values('date').groupby('team').date.diff().dt.days - 1\n",
    "tidy.dropna().head()"
   ]
  },
  {
   "cell_type": "code",
   "execution_count": 30,
   "metadata": {},
   "outputs": [
    {
     "data": {
      "text/html": [
       "<div>\n",
       "<style scoped>\n",
       "    .dataframe tbody tr th:only-of-type {\n",
       "        vertical-align: middle;\n",
       "    }\n",
       "\n",
       "    .dataframe tbody tr th {\n",
       "        vertical-align: top;\n",
       "    }\n",
       "\n",
       "    .dataframe thead th {\n",
       "        text-align: right;\n",
       "    }\n",
       "</style>\n",
       "<table border=\"1\" class=\"dataframe\">\n",
       "  <thead>\n",
       "    <tr style=\"text-align: right;\">\n",
       "      <th></th>\n",
       "      <th></th>\n",
       "      <th>away_team</th>\n",
       "      <th>away_points</th>\n",
       "      <th>home_team</th>\n",
       "      <th>home_points</th>\n",
       "      <th>away_rest</th>\n",
       "      <th>home_rest</th>\n",
       "    </tr>\n",
       "    <tr>\n",
       "      <th>game_id</th>\n",
       "      <th>date</th>\n",
       "      <th></th>\n",
       "      <th></th>\n",
       "      <th></th>\n",
       "      <th></th>\n",
       "      <th></th>\n",
       "      <th></th>\n",
       "    </tr>\n",
       "  </thead>\n",
       "  <tbody>\n",
       "    <tr>\n",
       "      <th>17</th>\n",
       "      <th>2015-10-29</th>\n",
       "      <td>Memphis Grizzlies</td>\n",
       "      <td>112</td>\n",
       "      <td>Indiana Pacers</td>\n",
       "      <td>103</td>\n",
       "      <td>0.0</td>\n",
       "      <td>0.0</td>\n",
       "    </tr>\n",
       "    <tr>\n",
       "      <th>18</th>\n",
       "      <th>2015-10-29</th>\n",
       "      <td>Atlanta Hawks</td>\n",
       "      <td>112</td>\n",
       "      <td>New York Knicks</td>\n",
       "      <td>101</td>\n",
       "      <td>1.0</td>\n",
       "      <td>0.0</td>\n",
       "    </tr>\n",
       "    <tr>\n",
       "      <th>19</th>\n",
       "      <th>2015-10-29</th>\n",
       "      <td>Dallas Mavericks</td>\n",
       "      <td>88</td>\n",
       "      <td>Los Angeles Clippers</td>\n",
       "      <td>104</td>\n",
       "      <td>0.0</td>\n",
       "      <td>0.0</td>\n",
       "    </tr>\n",
       "    <tr>\n",
       "      <th>20</th>\n",
       "      <th>2015-10-30</th>\n",
       "      <td>Miami Heat</td>\n",
       "      <td>92</td>\n",
       "      <td>Cleveland Cavaliers</td>\n",
       "      <td>102</td>\n",
       "      <td>1.0</td>\n",
       "      <td>1.0</td>\n",
       "    </tr>\n",
       "    <tr>\n",
       "      <th>21</th>\n",
       "      <th>2015-10-30</th>\n",
       "      <td>Utah Jazz</td>\n",
       "      <td>99</td>\n",
       "      <td>Philadelphia 76ers</td>\n",
       "      <td>71</td>\n",
       "      <td>1.0</td>\n",
       "      <td>1.0</td>\n",
       "    </tr>\n",
       "  </tbody>\n",
       "</table>\n",
       "</div>"
      ],
      "text/plain": [
       "                            away_team  away_points             home_team  \\\n",
       "game_id date                                                               \n",
       "17      2015-10-29  Memphis Grizzlies          112        Indiana Pacers   \n",
       "18      2015-10-29      Atlanta Hawks          112       New York Knicks   \n",
       "19      2015-10-29   Dallas Mavericks           88  Los Angeles Clippers   \n",
       "20      2015-10-30         Miami Heat           92   Cleveland Cavaliers   \n",
       "21      2015-10-30          Utah Jazz           99    Philadelphia 76ers   \n",
       "\n",
       "                    home_points  away_rest  home_rest  \n",
       "game_id date                                           \n",
       "17      2015-10-29          103        0.0        0.0  \n",
       "18      2015-10-29          101        1.0        0.0  \n",
       "19      2015-10-29          104        0.0        0.0  \n",
       "20      2015-10-30          102        1.0        1.0  \n",
       "21      2015-10-30           71        1.0        1.0  "
      ]
     },
     "execution_count": 30,
     "metadata": {},
     "output_type": "execute_result"
    }
   ],
   "source": [
    "by_game = (pd.pivot_table(tidy, values='rest',\n",
    "                          index=['game_id', 'date'],\n",
    "                          columns='variable')\n",
    "             .rename(columns={'away_team': 'away_rest',\n",
    "                              'home_team': 'home_rest'}))\n",
    "df = pd.concat([games, by_game], axis=1)\n",
    "df.dropna().head()"
   ]
  },
  {
   "cell_type": "markdown",
   "metadata": {},
   "source": [
    "what was each team’s average days of rest, at home and on the road?"
   ]
  },
  {
   "cell_type": "code",
   "execution_count": 44,
   "metadata": {},
   "outputs": [
    {
     "data": {
      "text/html": [
       "<div>\n",
       "<style scoped>\n",
       "    .dataframe tbody tr th:only-of-type {\n",
       "        vertical-align: middle;\n",
       "    }\n",
       "\n",
       "    .dataframe tbody tr th {\n",
       "        vertical-align: top;\n",
       "    }\n",
       "\n",
       "    .dataframe thead th {\n",
       "        text-align: right;\n",
       "    }\n",
       "</style>\n",
       "<table border=\"1\" class=\"dataframe\">\n",
       "  <thead>\n",
       "    <tr style=\"text-align: right;\">\n",
       "      <th></th>\n",
       "      <th></th>\n",
       "      <th>away_team</th>\n",
       "      <th>away_points</th>\n",
       "      <th>home_team</th>\n",
       "      <th>home_points</th>\n",
       "      <th>away_rest</th>\n",
       "      <th>home_rest</th>\n",
       "      <th>home_win</th>\n",
       "      <th>rest_spread</th>\n",
       "    </tr>\n",
       "    <tr>\n",
       "      <th>game_id</th>\n",
       "      <th>date</th>\n",
       "      <th></th>\n",
       "      <th></th>\n",
       "      <th></th>\n",
       "      <th></th>\n",
       "      <th></th>\n",
       "      <th></th>\n",
       "      <th></th>\n",
       "      <th></th>\n",
       "    </tr>\n",
       "  </thead>\n",
       "  <tbody>\n",
       "    <tr>\n",
       "      <th>17</th>\n",
       "      <th>2015-10-29</th>\n",
       "      <td>Memphis Grizzlies</td>\n",
       "      <td>112</td>\n",
       "      <td>Indiana Pacers</td>\n",
       "      <td>103</td>\n",
       "      <td>0.0</td>\n",
       "      <td>0.0</td>\n",
       "      <td>False</td>\n",
       "      <td>0.0</td>\n",
       "    </tr>\n",
       "    <tr>\n",
       "      <th>18</th>\n",
       "      <th>2015-10-29</th>\n",
       "      <td>Atlanta Hawks</td>\n",
       "      <td>112</td>\n",
       "      <td>New York Knicks</td>\n",
       "      <td>101</td>\n",
       "      <td>1.0</td>\n",
       "      <td>0.0</td>\n",
       "      <td>False</td>\n",
       "      <td>-1.0</td>\n",
       "    </tr>\n",
       "    <tr>\n",
       "      <th>19</th>\n",
       "      <th>2015-10-29</th>\n",
       "      <td>Dallas Mavericks</td>\n",
       "      <td>88</td>\n",
       "      <td>Los Angeles Clippers</td>\n",
       "      <td>104</td>\n",
       "      <td>0.0</td>\n",
       "      <td>0.0</td>\n",
       "      <td>True</td>\n",
       "      <td>0.0</td>\n",
       "    </tr>\n",
       "    <tr>\n",
       "      <th>20</th>\n",
       "      <th>2015-10-30</th>\n",
       "      <td>Miami Heat</td>\n",
       "      <td>92</td>\n",
       "      <td>Cleveland Cavaliers</td>\n",
       "      <td>102</td>\n",
       "      <td>1.0</td>\n",
       "      <td>1.0</td>\n",
       "      <td>True</td>\n",
       "      <td>0.0</td>\n",
       "    </tr>\n",
       "    <tr>\n",
       "      <th>21</th>\n",
       "      <th>2015-10-30</th>\n",
       "      <td>Utah Jazz</td>\n",
       "      <td>99</td>\n",
       "      <td>Philadelphia 76ers</td>\n",
       "      <td>71</td>\n",
       "      <td>1.0</td>\n",
       "      <td>1.0</td>\n",
       "      <td>False</td>\n",
       "      <td>0.0</td>\n",
       "    </tr>\n",
       "  </tbody>\n",
       "</table>\n",
       "</div>"
      ],
      "text/plain": [
       "                            away_team  away_points             home_team  \\\n",
       "game_id date                                                               \n",
       "17      2015-10-29  Memphis Grizzlies          112        Indiana Pacers   \n",
       "18      2015-10-29      Atlanta Hawks          112       New York Knicks   \n",
       "19      2015-10-29   Dallas Mavericks           88  Los Angeles Clippers   \n",
       "20      2015-10-30         Miami Heat           92   Cleveland Cavaliers   \n",
       "21      2015-10-30          Utah Jazz           99    Philadelphia 76ers   \n",
       "\n",
       "                    home_points  away_rest  home_rest  home_win  rest_spread  \n",
       "game_id date                                                                  \n",
       "17      2015-10-29          103        0.0        0.0     False          0.0  \n",
       "18      2015-10-29          101        1.0        0.0     False         -1.0  \n",
       "19      2015-10-29          104        0.0        0.0      True          0.0  \n",
       "20      2015-10-30          102        1.0        1.0      True          0.0  \n",
       "21      2015-10-30           71        1.0        1.0     False          0.0  "
      ]
     },
     "execution_count": 44,
     "metadata": {},
     "output_type": "execute_result"
    }
   ],
   "source": [
    "df['home_win'] = df['home_points'] > df['away_points']\n",
    "df['rest_spread'] = df['home_rest'] - df['away_rest']\n",
    "df.dropna().head()"
   ]
  },
  {
   "cell_type": "code",
   "execution_count": 45,
   "metadata": {},
   "outputs": [
    {
     "data": {
      "image/png": "[encoded data removed]",
      "text/plain": [
       "<Figure size 1200x600 with 1 Axes>"
      ]
     },
     "metadata": {},
     "output_type": "display_data"
    }
   ],
   "source": [
    "delta = (by_game.home_rest - by_game.away_rest).dropna().astype(int)\n",
    "ax = (delta.value_counts()\n",
    "    .reindex(np.arange(delta.min(), delta.max() + 1), fill_value=0)\n",
    "    .sort_index()\n",
    "    .plot(kind='bar', color='k', width=.9, rot=0, figsize=(12, 6))\n",
    ")\n",
    "sns.despine()\n",
    "ax.set(xlabel='Difference in Rest (Home - Away)', ylabel='Games');"
   ]
  },
  {
   "cell_type": "code",
   "execution_count": 46,
   "metadata": {},
   "outputs": [
    {
     "data": {
      "image/png": "[encoded data removed]",
      "text/plain": [
       "<Figure size 1200x600 with 1 Axes>"
      ]
     },
     "metadata": {},
     "output_type": "display_data"
    }
   ],
   "source": [
    "fig, ax = plt.subplots(figsize=(12, 6))\n",
    "sns.barplot(x='rest_spread', y='home_win', data=df.query('-3 <= rest_spread <= 3'),\n",
    "            color='#4c72b0', ax=ax)\n",
    "sns.despine()"
   ]
  },
  {
   "cell_type": "markdown",
   "metadata": {},
   "source": [
    "##### Stack/Unstack"
   ]
  },
  {
   "cell_type": "markdown",
   "metadata": {},
   "source": [
    "Pandas has two useful methods for quickly converting from wide to long format (stack) and long to wide (unstack)."
   ]
  },
  {
   "cell_type": "markdown",
   "metadata": {},
   "source": [
    "- Stack - Return a reshaped DataFrame or Series having a multi-level index with one or more new inner-most levels compared to the current DataFrame.\n",
    "  - if the columns have a single level, the output is a Series;\n",
    "  - if the columns have multiple levels, the new index level(s) is (are) taken from the prescribed level(s) and the output is a DataFrame."
   ]
  },
  {
   "cell_type": "code",
   "execution_count": 65,
   "metadata": {},
   "outputs": [
    {
     "data": {
      "text/html": [
       "<div>\n",
       "<style scoped>\n",
       "    .dataframe tbody tr th:only-of-type {\n",
       "        vertical-align: middle;\n",
       "    }\n",
       "\n",
       "    .dataframe tbody tr th {\n",
       "        vertical-align: top;\n",
       "    }\n",
       "\n",
       "    .dataframe thead th {\n",
       "        text-align: right;\n",
       "    }\n",
       "</style>\n",
       "<table border=\"1\" class=\"dataframe\">\n",
       "  <thead>\n",
       "    <tr style=\"text-align: right;\">\n",
       "      <th></th>\n",
       "      <th>weight</th>\n",
       "      <th>height</th>\n",
       "    </tr>\n",
       "  </thead>\n",
       "  <tbody>\n",
       "    <tr>\n",
       "      <th>cat</th>\n",
       "      <td>0</td>\n",
       "      <td>1</td>\n",
       "    </tr>\n",
       "    <tr>\n",
       "      <th>dog</th>\n",
       "      <td>2</td>\n",
       "      <td>3</td>\n",
       "    </tr>\n",
       "  </tbody>\n",
       "</table>\n",
       "</div>"
      ],
      "text/plain": [
       "     weight  height\n",
       "cat       0       1\n",
       "dog       2       3"
      ]
     },
     "execution_count": 65,
     "metadata": {},
     "output_type": "execute_result"
    }
   ],
   "source": [
    "df_single_level_cols = pd.DataFrame([[0, 1], [2, 3]],\n",
    "                                    index=['cat', 'dog'],\n",
    "                                    columns=['weight', 'height'])\n",
    "df_single_level_cols"
   ]
  },
  {
   "cell_type": "code",
   "execution_count": 74,
   "metadata": {},
   "outputs": [
    {
     "data": {
      "text/plain": [
       "cat  weight    0\n",
       "     height    1\n",
       "dog  weight    2\n",
       "     height    3\n",
       "dtype: int64"
      ]
     },
     "execution_count": 74,
     "metadata": {},
     "output_type": "execute_result"
    }
   ],
   "source": [
    "df_single_level_cols.stack(future_stack=True)"
   ]
  },
  {
   "cell_type": "markdown",
   "metadata": {},
   "source": [
    "- Unstack - Returns a DataFrame having a new level of column labels whose inner-most level consists of the pivoted index labels."
   ]
  },
  {
   "cell_type": "code",
   "execution_count": 58,
   "metadata": {},
   "outputs": [
    {
     "data": {
      "text/plain": [
       "one  a    1.0\n",
       "     b    2.0\n",
       "two  a    3.0\n",
       "     b    4.0\n",
       "dtype: float64"
      ]
     },
     "execution_count": 58,
     "metadata": {},
     "output_type": "execute_result"
    }
   ],
   "source": [
    "index = pd.MultiIndex.from_tuples([('one', 'a'), ('one', 'b'),\n",
    "                                   ('two', 'a'), ('two', 'b')])\n",
    "s = pd.Series(np.arange(1.0, 5.0), index=index)\n",
    "s"
   ]
  },
  {
   "cell_type": "code",
   "execution_count": 62,
   "metadata": {},
   "outputs": [
    {
     "data": {
      "text/html": [
       "<div>\n",
       "<style scoped>\n",
       "    .dataframe tbody tr th:only-of-type {\n",
       "        vertical-align: middle;\n",
       "    }\n",
       "\n",
       "    .dataframe tbody tr th {\n",
       "        vertical-align: top;\n",
       "    }\n",
       "\n",
       "    .dataframe thead th {\n",
       "        text-align: right;\n",
       "    }\n",
       "</style>\n",
       "<table border=\"1\" class=\"dataframe\">\n",
       "  <thead>\n",
       "    <tr style=\"text-align: right;\">\n",
       "      <th></th>\n",
       "      <th>one</th>\n",
       "      <th>two</th>\n",
       "    </tr>\n",
       "  </thead>\n",
       "  <tbody>\n",
       "    <tr>\n",
       "      <th>a</th>\n",
       "      <td>1.0</td>\n",
       "      <td>3.0</td>\n",
       "    </tr>\n",
       "    <tr>\n",
       "      <th>b</th>\n",
       "      <td>2.0</td>\n",
       "      <td>4.0</td>\n",
       "    </tr>\n",
       "  </tbody>\n",
       "</table>\n",
       "</div>"
      ],
      "text/plain": [
       "   one  two\n",
       "a  1.0  3.0\n",
       "b  2.0  4.0"
      ]
     },
     "execution_count": 62,
     "metadata": {},
     "output_type": "execute_result"
    }
   ],
   "source": [
    "s.unstack(level=0)"
   ]
  },
  {
   "cell_type": "code",
   "execution_count": 63,
   "metadata": {},
   "outputs": [
    {
     "data": {
      "text/html": [
       "<div>\n",
       "<style scoped>\n",
       "    .dataframe tbody tr th:only-of-type {\n",
       "        vertical-align: middle;\n",
       "    }\n",
       "\n",
       "    .dataframe tbody tr th {\n",
       "        vertical-align: top;\n",
       "    }\n",
       "\n",
       "    .dataframe thead th {\n",
       "        text-align: right;\n",
       "    }\n",
       "</style>\n",
       "<table border=\"1\" class=\"dataframe\">\n",
       "  <thead>\n",
       "    <tr style=\"text-align: right;\">\n",
       "      <th></th>\n",
       "      <th>one</th>\n",
       "      <th>two</th>\n",
       "    </tr>\n",
       "  </thead>\n",
       "  <tbody>\n",
       "    <tr>\n",
       "      <th>a</th>\n",
       "      <td>1.0</td>\n",
       "      <td>3.0</td>\n",
       "    </tr>\n",
       "    <tr>\n",
       "      <th>b</th>\n",
       "      <td>2.0</td>\n",
       "      <td>4.0</td>\n",
       "    </tr>\n",
       "  </tbody>\n",
       "</table>\n",
       "</div>"
      ],
      "text/plain": [
       "   one  two\n",
       "a  1.0  3.0\n",
       "b  2.0  4.0"
      ]
     },
     "execution_count": 63,
     "metadata": {},
     "output_type": "execute_result"
    }
   ],
   "source": [
    "s.unstack(level=0)"
   ]
  },
  {
   "cell_type": "code",
   "execution_count": 47,
   "metadata": {},
   "outputs": [
    {
     "data": {
      "text/plain": [
       "date        variable \n",
       "2015-10-28  away_team    0.000000\n",
       "            home_team    0.000000\n",
       "2015-10-29  away_team    0.333333\n",
       "            home_team    0.000000\n",
       "2015-10-30  away_team    1.083333\n",
       "Name: rest, dtype: float64"
      ]
     },
     "execution_count": 47,
     "metadata": {},
     "output_type": "execute_result"
    }
   ],
   "source": [
    "rest = (tidy.groupby(['date', 'variable'])\n",
    "            .rest.mean()\n",
    "            .dropna())\n",
    "rest.head()"
   ]
  },
  {
   "cell_type": "code",
   "execution_count": 48,
   "metadata": {},
   "outputs": [
    {
     "data": {
      "text/html": [
       "<div>\n",
       "<style scoped>\n",
       "    .dataframe tbody tr th:only-of-type {\n",
       "        vertical-align: middle;\n",
       "    }\n",
       "\n",
       "    .dataframe tbody tr th {\n",
       "        vertical-align: top;\n",
       "    }\n",
       "\n",
       "    .dataframe thead th {\n",
       "        text-align: right;\n",
       "    }\n",
       "</style>\n",
       "<table border=\"1\" class=\"dataframe\">\n",
       "  <thead>\n",
       "    <tr style=\"text-align: right;\">\n",
       "      <th>variable</th>\n",
       "      <th>away_team</th>\n",
       "      <th>home_team</th>\n",
       "    </tr>\n",
       "    <tr>\n",
       "      <th>date</th>\n",
       "      <th></th>\n",
       "      <th></th>\n",
       "    </tr>\n",
       "  </thead>\n",
       "  <tbody>\n",
       "    <tr>\n",
       "      <th>2015-10-28</th>\n",
       "      <td>0.000000</td>\n",
       "      <td>0.000000</td>\n",
       "    </tr>\n",
       "    <tr>\n",
       "      <th>2015-10-29</th>\n",
       "      <td>0.333333</td>\n",
       "      <td>0.000000</td>\n",
       "    </tr>\n",
       "    <tr>\n",
       "      <th>2015-10-30</th>\n",
       "      <td>1.083333</td>\n",
       "      <td>0.916667</td>\n",
       "    </tr>\n",
       "    <tr>\n",
       "      <th>2015-10-31</th>\n",
       "      <td>0.166667</td>\n",
       "      <td>0.833333</td>\n",
       "    </tr>\n",
       "  </tbody>\n",
       "</table>\n",
       "</div>"
      ],
      "text/plain": [
       "variable    away_team  home_team\n",
       "date                            \n",
       "2015-10-28   0.000000   0.000000\n",
       "2015-10-29   0.333333   0.000000\n",
       "2015-10-30   1.083333   0.916667\n",
       "2015-10-31   0.166667   0.833333"
      ]
     },
     "execution_count": 48,
     "metadata": {},
     "output_type": "execute_result"
    }
   ],
   "source": [
    "rest.unstack().head()\n"
   ]
  },
  {
   "cell_type": "code",
   "execution_count": 50,
   "metadata": {},
   "outputs": [
    {
     "data": {
      "text/plain": [
       "date        variable \n",
       "2015-10-28  away_team    0.000000\n",
       "            home_team    0.000000\n",
       "2015-10-29  away_team    0.333333\n",
       "            home_team    0.000000\n",
       "2015-10-30  away_team    1.083333\n",
       "            home_team    0.916667\n",
       "2015-10-31  away_team    0.166667\n",
       "            home_team    0.833333\n",
       "dtype: float64"
      ]
     },
     "execution_count": 50,
     "metadata": {},
     "output_type": "execute_result"
    }
   ],
   "source": [
    "rest.unstack().stack()\n"
   ]
  },
  {
   "cell_type": "markdown",
   "metadata": {},
   "source": [
    "##### Home court advantage?"
   ]
  },
  {
   "cell_type": "code",
   "execution_count": 75,
   "metadata": {},
   "outputs": [],
   "source": [
    "df['home_win'] = df.home_points > df.away_points\n"
   ]
  },
  {
   "cell_type": "markdown",
   "metadata": {},
   "source": [
    "Find the win percent for each team"
   ]
  },
  {
   "cell_type": "code",
   "execution_count": 78,
   "metadata": {},
   "outputs": [
    {
     "data": {
      "text/html": [
       "<div>\n",
       "<style scoped>\n",
       "    .dataframe tbody tr th:only-of-type {\n",
       "        vertical-align: middle;\n",
       "    }\n",
       "\n",
       "    .dataframe tbody tr th {\n",
       "        vertical-align: top;\n",
       "    }\n",
       "\n",
       "    .dataframe thead th {\n",
       "        text-align: right;\n",
       "    }\n",
       "</style>\n",
       "<table border=\"1\" class=\"dataframe\">\n",
       "  <thead>\n",
       "    <tr style=\"text-align: right;\">\n",
       "      <th></th>\n",
       "      <th></th>\n",
       "      <th>n_wins</th>\n",
       "      <th>n_games</th>\n",
       "      <th>win_pct</th>\n",
       "    </tr>\n",
       "    <tr>\n",
       "      <th>team</th>\n",
       "      <th>is_home</th>\n",
       "      <th></th>\n",
       "      <th></th>\n",
       "      <th></th>\n",
       "    </tr>\n",
       "  </thead>\n",
       "  <tbody>\n",
       "    <tr>\n",
       "      <th rowspan=\"2\" valign=\"top\">Atlanta Hawks</th>\n",
       "      <th>away_team</th>\n",
       "      <td>1</td>\n",
       "      <td>1</td>\n",
       "      <td>1.0</td>\n",
       "    </tr>\n",
       "    <tr>\n",
       "      <th>home_team</th>\n",
       "      <td>1</td>\n",
       "      <td>2</td>\n",
       "      <td>0.5</td>\n",
       "    </tr>\n",
       "    <tr>\n",
       "      <th>Boston Celtics</th>\n",
       "      <th>home_team</th>\n",
       "      <td>1</td>\n",
       "      <td>2</td>\n",
       "      <td>0.5</td>\n",
       "    </tr>\n",
       "    <tr>\n",
       "      <th rowspan=\"2\" valign=\"top\">Brooklyn Nets</th>\n",
       "      <th>away_team</th>\n",
       "      <td>0</td>\n",
       "      <td>2</td>\n",
       "      <td>0.0</td>\n",
       "    </tr>\n",
       "    <tr>\n",
       "      <th>home_team</th>\n",
       "      <td>0</td>\n",
       "      <td>1</td>\n",
       "      <td>0.0</td>\n",
       "    </tr>\n",
       "  </tbody>\n",
       "</table>\n",
       "</div>"
      ],
      "text/plain": [
       "                          n_wins  n_games  win_pct\n",
       "team           is_home                            \n",
       "Atlanta Hawks  away_team       1        1      1.0\n",
       "               home_team       1        2      0.5\n",
       "Boston Celtics home_team       1        2      0.5\n",
       "Brooklyn Nets  away_team       0        2      0.0\n",
       "               home_team       0        1      0.0"
      ]
     },
     "execution_count": 78,
     "metadata": {},
     "output_type": "execute_result"
    }
   ],
   "source": [
    "wins = (\n",
    "    pd.melt(df.reset_index(),\n",
    "            id_vars=['game_id', 'date', 'home_win'],\n",
    "            value_name='team', var_name='is_home',\n",
    "            value_vars=['home_team', 'away_team'])\n",
    "   .assign(win=lambda x: x.home_win == (x.is_home == 'home_team'))\n",
    "   .groupby(['team', 'is_home'])\n",
    "   .win\n",
    "   .agg(['sum', 'count', 'mean'])\n",
    "   .rename(columns=dict(sum='n_wins',\n",
    "                        count='n_games',\n",
    "                        mean='win_pct'))\n",
    ")\n",
    "wins.head()"
   ]
  },
  {
   "cell_type": "code",
   "execution_count": 86,
   "metadata": {},
   "outputs": [
    {
     "name": "stderr",
     "output_type": "stream",
     "text": [
      "c:\\Users\\Luis\\AppData\\Local\\Programs\\Python\\Python311\\Lib\\site-packages\\seaborn\\axisgrid.py:718: UserWarning: Using the pointplot function without specifying `order` is likely to produce an incorrect plot.\n",
      "  warnings.warn(warning)\n"
     ]
    },
    {
     "data": {
      "text/plain": [
       "<seaborn.axisgrid.FacetGrid at 0x2941eb97110>"
      ]
     },
     "execution_count": 86,
     "metadata": {},
     "output_type": "execute_result"
    },
    {
     "data": {
      "image/png": "[encoded data removed]",
      "text/plain": [
       "<Figure size 1000x1200 with 30 Axes>"
      ]
     },
     "metadata": {},
     "output_type": "display_data"
    }
   ],
   "source": [
    "g = sns.FacetGrid(wins.reset_index(), col='team', hue='team', col_wrap=5, height=2)\n",
    "g.map(sns.pointplot, 'is_home', 'win_pct')"
   ]
  },
  {
   "cell_type": "code",
   "execution_count": 87,
   "metadata": {},
   "outputs": [
    {
     "data": {
      "text/plain": [
       "team\n",
       "Atlanta Hawks        0.666667\n",
       "Boston Celtics       0.500000\n",
       "Brooklyn Nets        0.000000\n",
       "Charlotte Hornets    0.000000\n",
       "Chicago Bulls        0.666667\n",
       "dtype: float64"
      ]
     },
     "execution_count": 87,
     "metadata": {},
     "output_type": "execute_result"
    }
   ],
   "source": [
    "win_percent = (\n",
    "    # Use sum(games) / sum(games) instead of mean\n",
    "    # since I don't know if teams play the same\n",
    "    # number of games at home as away\n",
    "    wins.groupby(level='team', as_index=True)\n",
    "        .apply(lambda x: x.n_wins.sum() / x.n_games.sum())\n",
    ")\n",
    "win_percent.head()"
   ]
  },
  {
   "cell_type": "code",
   "execution_count": 88,
   "metadata": {},
   "outputs": [
    {
     "data": {
      "text/plain": [
       "Text(0.5, 104.91666666666664, 'Win Percent')"
      ]
     },
     "execution_count": 88,
     "metadata": {},
     "output_type": "execute_result"
    },
    {
     "data": {
      "image/png": "[encoded data removed]",
      "text/plain": [
       "<Figure size 600x1200 with 1 Axes>"
      ]
     },
     "metadata": {},
     "output_type": "display_data"
    }
   ],
   "source": [
    "win_percent.sort_values().plot.barh(figsize=(6, 12), width=.85, color='k')\n",
    "plt.tight_layout()\n",
    "sns.despine()\n",
    "plt.xlabel(\"Win Percent\")"
   ]
  },
  {
   "cell_type": "markdown",
   "metadata": {},
   "source": [
    "Is there a relationship between overall team strength and their home-court advantage?"
   ]
  },
  {
   "cell_type": "code",
   "execution_count": 89,
   "metadata": {},
   "outputs": [
    {
     "data": {
      "image/png": "[encoded data removed]",
      "text/plain": [
       "<Figure size 800x500 with 1 Axes>"
      ]
     },
     "metadata": {},
     "output_type": "display_data"
    }
   ],
   "source": [
    "plt.figure(figsize=(8, 5))\n",
    "(wins.win_pct\n",
    "    .unstack()\n",
    "    .assign(**{'Home Win % - Away %': lambda x: x.home_team - x.away_team,\n",
    "               'Overall %': lambda x: (x.home_team + x.away_team) / 2})\n",
    "     .pipe((sns.regplot, 'data'), x='Overall %', y='Home Win % - Away %')\n",
    ")\n",
    "sns.despine()\n",
    "plt.tight_layout()"
   ]
  },
  {
   "cell_type": "code",
   "execution_count": 93,
   "metadata": {},
   "outputs": [
    {
     "data": {
      "text/html": [
       "<div>\n",
       "<style scoped>\n",
       "    .dataframe tbody tr th:only-of-type {\n",
       "        vertical-align: middle;\n",
       "    }\n",
       "\n",
       "    .dataframe tbody tr th {\n",
       "        vertical-align: top;\n",
       "    }\n",
       "\n",
       "    .dataframe thead th {\n",
       "        text-align: right;\n",
       "    }\n",
       "</style>\n",
       "<table border=\"1\" class=\"dataframe\">\n",
       "  <thead>\n",
       "    <tr style=\"text-align: right;\">\n",
       "      <th></th>\n",
       "      <th></th>\n",
       "      <th>away_team</th>\n",
       "      <th>away_points</th>\n",
       "      <th>home_team</th>\n",
       "      <th>home_points</th>\n",
       "      <th>away_rest</th>\n",
       "      <th>home_rest</th>\n",
       "      <th>home_win</th>\n",
       "      <th>rest_spread</th>\n",
       "      <th>away_strength</th>\n",
       "      <th>home_strength</th>\n",
       "      <th>point_diff</th>\n",
       "      <th>rest_diff</th>\n",
       "    </tr>\n",
       "    <tr>\n",
       "      <th>game_id</th>\n",
       "      <th>date</th>\n",
       "      <th></th>\n",
       "      <th></th>\n",
       "      <th></th>\n",
       "      <th></th>\n",
       "      <th></th>\n",
       "      <th></th>\n",
       "      <th></th>\n",
       "      <th></th>\n",
       "      <th></th>\n",
       "      <th></th>\n",
       "      <th></th>\n",
       "      <th></th>\n",
       "    </tr>\n",
       "  </thead>\n",
       "  <tbody>\n",
       "    <tr>\n",
       "      <th>0</th>\n",
       "      <th>2015-10-27</th>\n",
       "      <td>Cleveland Cavaliers</td>\n",
       "      <td>95</td>\n",
       "      <td>Chicago Bulls</td>\n",
       "      <td>97</td>\n",
       "      <td>NaN</td>\n",
       "      <td>NaN</td>\n",
       "      <td>1</td>\n",
       "      <td>NaN</td>\n",
       "      <td>0.666667</td>\n",
       "      <td>0.666667</td>\n",
       "      <td>2</td>\n",
       "      <td>NaN</td>\n",
       "    </tr>\n",
       "    <tr>\n",
       "      <th>1</th>\n",
       "      <th>2015-10-27</th>\n",
       "      <td>Detroit Pistons</td>\n",
       "      <td>106</td>\n",
       "      <td>Atlanta Hawks</td>\n",
       "      <td>94</td>\n",
       "      <td>NaN</td>\n",
       "      <td>NaN</td>\n",
       "      <td>0</td>\n",
       "      <td>NaN</td>\n",
       "      <td>1.000000</td>\n",
       "      <td>0.666667</td>\n",
       "      <td>-12</td>\n",
       "      <td>NaN</td>\n",
       "    </tr>\n",
       "    <tr>\n",
       "      <th>2</th>\n",
       "      <th>2015-10-27</th>\n",
       "      <td>New Orleans Pelicans</td>\n",
       "      <td>95</td>\n",
       "      <td>Golden State Warriors</td>\n",
       "      <td>111</td>\n",
       "      <td>NaN</td>\n",
       "      <td>NaN</td>\n",
       "      <td>1</td>\n",
       "      <td>NaN</td>\n",
       "      <td>0.000000</td>\n",
       "      <td>1.000000</td>\n",
       "      <td>16</td>\n",
       "      <td>NaN</td>\n",
       "    </tr>\n",
       "    <tr>\n",
       "      <th>3</th>\n",
       "      <th>2015-10-28</th>\n",
       "      <td>Washington Wizards</td>\n",
       "      <td>88</td>\n",
       "      <td>Orlando Magic</td>\n",
       "      <td>87</td>\n",
       "      <td>NaN</td>\n",
       "      <td>NaN</td>\n",
       "      <td>0</td>\n",
       "      <td>NaN</td>\n",
       "      <td>0.666667</td>\n",
       "      <td>0.000000</td>\n",
       "      <td>-1</td>\n",
       "      <td>NaN</td>\n",
       "    </tr>\n",
       "    <tr>\n",
       "      <th>4</th>\n",
       "      <th>2015-10-28</th>\n",
       "      <td>Philadelphia 76ers</td>\n",
       "      <td>95</td>\n",
       "      <td>Boston Celtics</td>\n",
       "      <td>112</td>\n",
       "      <td>NaN</td>\n",
       "      <td>NaN</td>\n",
       "      <td>1</td>\n",
       "      <td>NaN</td>\n",
       "      <td>0.000000</td>\n",
       "      <td>0.500000</td>\n",
       "      <td>17</td>\n",
       "      <td>NaN</td>\n",
       "    </tr>\n",
       "  </tbody>\n",
       "</table>\n",
       "</div>"
      ],
      "text/plain": [
       "                               away_team  away_points              home_team  \\\n",
       "game_id date                                                                   \n",
       "0       2015-10-27   Cleveland Cavaliers           95          Chicago Bulls   \n",
       "1       2015-10-27       Detroit Pistons          106          Atlanta Hawks   \n",
       "2       2015-10-27  New Orleans Pelicans           95  Golden State Warriors   \n",
       "3       2015-10-28    Washington Wizards           88          Orlando Magic   \n",
       "4       2015-10-28    Philadelphia 76ers           95         Boston Celtics   \n",
       "\n",
       "                    home_points  away_rest  home_rest  home_win  rest_spread  \\\n",
       "game_id date                                                                   \n",
       "0       2015-10-27           97        NaN        NaN         1          NaN   \n",
       "1       2015-10-27           94        NaN        NaN         0          NaN   \n",
       "2       2015-10-27          111        NaN        NaN         1          NaN   \n",
       "3       2015-10-28           87        NaN        NaN         0          NaN   \n",
       "4       2015-10-28          112        NaN        NaN         1          NaN   \n",
       "\n",
       "                    away_strength  home_strength  point_diff  rest_diff  \n",
       "game_id date                                                             \n",
       "0       2015-10-27       0.666667       0.666667           2        NaN  \n",
       "1       2015-10-27       1.000000       0.666667         -12        NaN  \n",
       "2       2015-10-27       0.000000       1.000000          16        NaN  \n",
       "3       2015-10-28       0.666667       0.000000          -1        NaN  \n",
       "4       2015-10-28       0.000000       0.500000          17        NaN  "
      ]
     },
     "execution_count": 93,
     "metadata": {},
     "output_type": "execute_result"
    }
   ],
   "source": [
    "df = df.assign(away_strength=df['away_team'].map(win_percent),\n",
    "               home_strength=df['home_team'].map(win_percent),\n",
    "               point_diff=df['home_points'] - df['away_points'],\n",
    "               rest_diff=df['home_rest'] - df['away_rest'])\n",
    "df.head()"
   ]
  },
  {
   "cell_type": "code",
   "execution_count": 94,
   "metadata": {},
   "outputs": [],
   "source": [
    "import statsmodels.formula.api as sm\n",
    "\n",
    "df['home_win'] = df.home_win.astype(int)  # for statsmodels"
   ]
  },
  {
   "cell_type": "markdown",
   "metadata": {},
   "source": [
    "# Modern Pandas Part 6"
   ]
  },
  {
   "cell_type": "code",
   "execution_count": 9,
   "metadata": {},
   "outputs": [
    {
     "data": {
      "text/html": [
       "<div>\n",
       "<style scoped>\n",
       "    .dataframe tbody tr th:only-of-type {\n",
       "        vertical-align: middle;\n",
       "    }\n",
       "\n",
       "    .dataframe tbody tr th {\n",
       "        vertical-align: top;\n",
       "    }\n",
       "\n",
       "    .dataframe thead th {\n",
       "        text-align: right;\n",
       "    }\n",
       "</style>\n",
       "<table border=\"1\" class=\"dataframe\">\n",
       "  <thead>\n",
       "    <tr style=\"text-align: right;\">\n",
       "      <th></th>\n",
       "      <th>rownames</th>\n",
       "      <th>carat</th>\n",
       "      <th>cut</th>\n",
       "      <th>color</th>\n",
       "      <th>clarity</th>\n",
       "      <th>depth</th>\n",
       "      <th>table</th>\n",
       "      <th>price</th>\n",
       "      <th>x</th>\n",
       "      <th>y</th>\n",
       "      <th>z</th>\n",
       "    </tr>\n",
       "  </thead>\n",
       "  <tbody>\n",
       "    <tr>\n",
       "      <th>0</th>\n",
       "      <td>1</td>\n",
       "      <td>0.23</td>\n",
       "      <td>Ideal</td>\n",
       "      <td>E</td>\n",
       "      <td>SI2</td>\n",
       "      <td>61.5</td>\n",
       "      <td>55.0</td>\n",
       "      <td>326</td>\n",
       "      <td>3.95</td>\n",
       "      <td>3.98</td>\n",
       "      <td>2.43</td>\n",
       "    </tr>\n",
       "    <tr>\n",
       "      <th>1</th>\n",
       "      <td>2</td>\n",
       "      <td>0.21</td>\n",
       "      <td>Premium</td>\n",
       "      <td>E</td>\n",
       "      <td>SI1</td>\n",
       "      <td>59.8</td>\n",
       "      <td>61.0</td>\n",
       "      <td>326</td>\n",
       "      <td>3.89</td>\n",
       "      <td>3.84</td>\n",
       "      <td>2.31</td>\n",
       "    </tr>\n",
       "    <tr>\n",
       "      <th>2</th>\n",
       "      <td>3</td>\n",
       "      <td>0.23</td>\n",
       "      <td>Good</td>\n",
       "      <td>E</td>\n",
       "      <td>VS1</td>\n",
       "      <td>56.9</td>\n",
       "      <td>65.0</td>\n",
       "      <td>327</td>\n",
       "      <td>4.05</td>\n",
       "      <td>4.07</td>\n",
       "      <td>2.31</td>\n",
       "    </tr>\n",
       "    <tr>\n",
       "      <th>3</th>\n",
       "      <td>4</td>\n",
       "      <td>0.29</td>\n",
       "      <td>Premium</td>\n",
       "      <td>I</td>\n",
       "      <td>VS2</td>\n",
       "      <td>62.4</td>\n",
       "      <td>58.0</td>\n",
       "      <td>334</td>\n",
       "      <td>4.20</td>\n",
       "      <td>4.23</td>\n",
       "      <td>2.63</td>\n",
       "    </tr>\n",
       "    <tr>\n",
       "      <th>4</th>\n",
       "      <td>5</td>\n",
       "      <td>0.31</td>\n",
       "      <td>Good</td>\n",
       "      <td>J</td>\n",
       "      <td>SI2</td>\n",
       "      <td>63.3</td>\n",
       "      <td>58.0</td>\n",
       "      <td>335</td>\n",
       "      <td>4.34</td>\n",
       "      <td>4.35</td>\n",
       "      <td>2.75</td>\n",
       "    </tr>\n",
       "  </tbody>\n",
       "</table>\n",
       "</div>"
      ],
      "text/plain": [
       "   rownames  carat      cut color clarity  depth  table  price     x     y  \\\n",
       "0         1   0.23    Ideal     E     SI2   61.5   55.0    326  3.95  3.98   \n",
       "1         2   0.21  Premium     E     SI1   59.8   61.0    326  3.89  3.84   \n",
       "2         3   0.23     Good     E     VS1   56.9   65.0    327  4.05  4.07   \n",
       "3         4   0.29  Premium     I     VS2   62.4   58.0    334  4.20  4.23   \n",
       "4         5   0.31     Good     J     SI2   63.3   58.0    335  4.34  4.35   \n",
       "\n",
       "      z  \n",
       "0  2.43  \n",
       "1  2.31  \n",
       "2  2.31  \n",
       "3  2.63  \n",
       "4  2.75  "
      ]
     },
     "execution_count": 9,
     "metadata": {},
     "output_type": "execute_result"
    }
   ],
   "source": [
    "import os\n",
    "import numpy as np\n",
    "import pandas as pd\n",
    "import matplotlib.pyplot as plt\n",
    "import seaborn as sns\n",
    "df = pd.read_csv('diamonds.csv')\n",
    "df.head()"
   ]
  },
  {
   "cell_type": "code",
   "execution_count": 103,
   "metadata": {},
   "outputs": [
    {
     "name": "stdout",
     "output_type": "stream",
     "text": [
      "<class 'pandas.core.frame.DataFrame'>\n",
      "RangeIndex: 53940 entries, 0 to 53939\n",
      "Data columns (total 11 columns):\n",
      " #   Column    Non-Null Count  Dtype  \n",
      "---  ------    --------------  -----  \n",
      " 0   rownames  53940 non-null  int64  \n",
      " 1   carat     53940 non-null  float64\n",
      " 2   cut       53940 non-null  object \n",
      " 3   color     53940 non-null  object \n",
      " 4   clarity   53940 non-null  object \n",
      " 5   depth     53940 non-null  float64\n",
      " 6   table     53940 non-null  float64\n",
      " 7   price     53940 non-null  int64  \n",
      " 8   x         53940 non-null  float64\n",
      " 9   y         53940 non-null  float64\n",
      " 10  z         53940 non-null  float64\n",
      "dtypes: float64(6), int64(2), object(3)\n",
      "memory usage: 4.5+ MB\n"
     ]
    }
   ],
   "source": [
    "df.info()"
   ]
  },
  {
   "cell_type": "code",
   "execution_count": 105,
   "metadata": {},
   "outputs": [],
   "source": [
    "sns.set_theme(context='talk', style='ticks')\n",
    "\n",
    "%matplotlib inline"
   ]
  },
  {
   "cell_type": "markdown",
   "metadata": {},
   "source": [
    "Matiplotlib"
   ]
  },
  {
   "cell_type": "code",
   "execution_count": 106,
   "metadata": {},
   "outputs": [
    {
     "data": {
      "image/png": "[encoded data removed]",
      "text/plain": [
       "<Figure size 640x480 with 1 Axes>"
      ]
     },
     "metadata": {},
     "output_type": "display_data"
    }
   ],
   "source": [
    "fig, ax = plt.subplots()\n",
    "\n",
    "ax.scatter(x='carat', y='depth', data=df, c='k', alpha=.15);"
   ]
  },
  {
   "cell_type": "markdown",
   "metadata": {},
   "source": [
    "Pandas Built-in Plotting"
   ]
  },
  {
   "cell_type": "code",
   "execution_count": 107,
   "metadata": {},
   "outputs": [
    {
     "data": {
      "image/png": "[encoded data removed]",
      "text/plain": [
       "<Figure size 640x480 with 1 Axes>"
      ]
     },
     "metadata": {},
     "output_type": "display_data"
    }
   ],
   "source": [
    "df.plot.scatter(x='carat', y='depth', c='k', alpha=.15)\n",
    "plt.tight_layout()"
   ]
  },
  {
   "cell_type": "markdown",
   "metadata": {},
   "source": [
    "## [Seaborn](https://seaborn.pydata.org/tutorial/introduction)"
   ]
  },
  {
   "cell_type": "code",
   "execution_count": 110,
   "metadata": {},
   "outputs": [
    {
     "data": {
      "image/png": "[encoded data removed]",
      "text/plain": [
       "<Figure size 640x480 with 1 Axes>"
      ]
     },
     "metadata": {},
     "output_type": "display_data"
    }
   ],
   "source": [
    "sns.countplot(x='cut', data=df)\n",
    "sns.despine()\n",
    "plt.tight_layout()"
   ]
  },
  {
   "cell_type": "code",
   "execution_count": 5,
   "metadata": {},
   "outputs": [],
   "source": [
    "from sklearn.ensemble import RandomForestClassifier\n",
    "from sklearn.model_selection import GridSearchCV"
   ]
  },
  {
   "cell_type": "code",
   "execution_count": 10,
   "metadata": {},
   "outputs": [],
   "source": [
    "df = sns.load_dataset('titanic')\n",
    "\n",
    "clf = RandomForestClassifier()\n",
    "param_grid = dict(max_depth=[1, 2, 5, 10, 20, 30, 40],\n",
    "                  min_samples_split=[2, 5, 10],\n",
    "                  min_samples_leaf=[2, 3, 5])\n",
    "est = GridSearchCV(clf, param_grid=param_grid, n_jobs=4)\n",
    "\n",
    "y = df['survived']\n",
    "X = df.drop(['survived', 'who', 'alive'], axis=1)\n",
    "\n",
    "X = pd.get_dummies(X, drop_first=True)\n",
    "X = X.fillna(value=X.median())\n",
    "est.fit(X, y);"
   ]
  },
  {
   "cell_type": "code",
   "execution_count": 11,
   "metadata": {},
   "outputs": [
    {
     "data": {
      "text/html": [
       "<div>\n",
       "<style scoped>\n",
       "    .dataframe tbody tr th:only-of-type {\n",
       "        vertical-align: middle;\n",
       "    }\n",
       "\n",
       "    .dataframe tbody tr th {\n",
       "        vertical-align: top;\n",
       "    }\n",
       "\n",
       "    .dataframe thead th {\n",
       "        text-align: right;\n",
       "    }\n",
       "</style>\n",
       "<table border=\"1\" class=\"dataframe\">\n",
       "  <thead>\n",
       "    <tr style=\"text-align: right;\">\n",
       "      <th></th>\n",
       "      <th>mean_fit_time</th>\n",
       "      <th>std_fit_time</th>\n",
       "      <th>mean_score_time</th>\n",
       "      <th>std_score_time</th>\n",
       "      <th>param_max_depth</th>\n",
       "      <th>param_min_samples_leaf</th>\n",
       "      <th>param_min_samples_split</th>\n",
       "      <th>params</th>\n",
       "      <th>split0_test_score</th>\n",
       "      <th>split1_test_score</th>\n",
       "      <th>split2_test_score</th>\n",
       "      <th>split3_test_score</th>\n",
       "      <th>split4_test_score</th>\n",
       "      <th>mean_test_score</th>\n",
       "      <th>std_test_score</th>\n",
       "      <th>rank_test_score</th>\n",
       "    </tr>\n",
       "  </thead>\n",
       "  <tbody>\n",
       "    <tr>\n",
       "      <th>0</th>\n",
       "      <td>0.106439</td>\n",
       "      <td>0.004239</td>\n",
       "      <td>0.007251</td>\n",
       "      <td>0.000805</td>\n",
       "      <td>1</td>\n",
       "      <td>2</td>\n",
       "      <td>2</td>\n",
       "      <td>{'max_depth': 1, 'min_samples_leaf': 2, 'min_s...</td>\n",
       "      <td>0.743017</td>\n",
       "      <td>0.797753</td>\n",
       "      <td>0.808989</td>\n",
       "      <td>0.741573</td>\n",
       "      <td>0.786517</td>\n",
       "      <td>0.775570</td>\n",
       "      <td>0.028086</td>\n",
       "      <td>62</td>\n",
       "    </tr>\n",
       "    <tr>\n",
       "      <th>1</th>\n",
       "      <td>0.106738</td>\n",
       "      <td>0.006253</td>\n",
       "      <td>0.007525</td>\n",
       "      <td>0.001348</td>\n",
       "      <td>1</td>\n",
       "      <td>2</td>\n",
       "      <td>5</td>\n",
       "      <td>{'max_depth': 1, 'min_samples_leaf': 2, 'min_s...</td>\n",
       "      <td>0.731844</td>\n",
       "      <td>0.792135</td>\n",
       "      <td>0.814607</td>\n",
       "      <td>0.780899</td>\n",
       "      <td>0.780899</td>\n",
       "      <td>0.780077</td>\n",
       "      <td>0.027076</td>\n",
       "      <td>60</td>\n",
       "    </tr>\n",
       "    <tr>\n",
       "      <th>2</th>\n",
       "      <td>0.100931</td>\n",
       "      <td>0.004510</td>\n",
       "      <td>0.006866</td>\n",
       "      <td>0.000421</td>\n",
       "      <td>1</td>\n",
       "      <td>2</td>\n",
       "      <td>10</td>\n",
       "      <td>{'max_depth': 1, 'min_samples_leaf': 2, 'min_s...</td>\n",
       "      <td>0.754190</td>\n",
       "      <td>0.792135</td>\n",
       "      <td>0.814607</td>\n",
       "      <td>0.797753</td>\n",
       "      <td>0.820225</td>\n",
       "      <td>0.795782</td>\n",
       "      <td>0.023233</td>\n",
       "      <td>55</td>\n",
       "    </tr>\n",
       "    <tr>\n",
       "      <th>3</th>\n",
       "      <td>0.104340</td>\n",
       "      <td>0.006729</td>\n",
       "      <td>0.007167</td>\n",
       "      <td>0.000555</td>\n",
       "      <td>1</td>\n",
       "      <td>3</td>\n",
       "      <td>2</td>\n",
       "      <td>{'max_depth': 1, 'min_samples_leaf': 3, 'min_s...</td>\n",
       "      <td>0.754190</td>\n",
       "      <td>0.808989</td>\n",
       "      <td>0.820225</td>\n",
       "      <td>0.741573</td>\n",
       "      <td>0.786517</td>\n",
       "      <td>0.782299</td>\n",
       "      <td>0.030388</td>\n",
       "      <td>59</td>\n",
       "    </tr>\n",
       "    <tr>\n",
       "      <th>4</th>\n",
       "      <td>0.105488</td>\n",
       "      <td>0.008626</td>\n",
       "      <td>0.006425</td>\n",
       "      <td>0.000743</td>\n",
       "      <td>1</td>\n",
       "      <td>3</td>\n",
       "      <td>5</td>\n",
       "      <td>{'max_depth': 1, 'min_samples_leaf': 3, 'min_s...</td>\n",
       "      <td>0.793296</td>\n",
       "      <td>0.792135</td>\n",
       "      <td>0.825843</td>\n",
       "      <td>0.780899</td>\n",
       "      <td>0.820225</td>\n",
       "      <td>0.802479</td>\n",
       "      <td>0.017423</td>\n",
       "      <td>53</td>\n",
       "    </tr>\n",
       "  </tbody>\n",
       "</table>\n",
       "</div>"
      ],
      "text/plain": [
       "   mean_fit_time  std_fit_time  mean_score_time  std_score_time  \\\n",
       "0       0.106439      0.004239         0.007251        0.000805   \n",
       "1       0.106738      0.006253         0.007525        0.001348   \n",
       "2       0.100931      0.004510         0.006866        0.000421   \n",
       "3       0.104340      0.006729         0.007167        0.000555   \n",
       "4       0.105488      0.008626         0.006425        0.000743   \n",
       "\n",
       "   param_max_depth  param_min_samples_leaf  param_min_samples_split  \\\n",
       "0                1                       2                        2   \n",
       "1                1                       2                        5   \n",
       "2                1                       2                       10   \n",
       "3                1                       3                        2   \n",
       "4                1                       3                        5   \n",
       "\n",
       "                                              params  split0_test_score  \\\n",
       "0  {'max_depth': 1, 'min_samples_leaf': 2, 'min_s...           0.743017   \n",
       "1  {'max_depth': 1, 'min_samples_leaf': 2, 'min_s...           0.731844   \n",
       "2  {'max_depth': 1, 'min_samples_leaf': 2, 'min_s...           0.754190   \n",
       "3  {'max_depth': 1, 'min_samples_leaf': 3, 'min_s...           0.754190   \n",
       "4  {'max_depth': 1, 'min_samples_leaf': 3, 'min_s...           0.793296   \n",
       "\n",
       "   split1_test_score  split2_test_score  split3_test_score  split4_test_score  \\\n",
       "0           0.797753           0.808989           0.741573           0.786517   \n",
       "1           0.792135           0.814607           0.780899           0.780899   \n",
       "2           0.792135           0.814607           0.797753           0.820225   \n",
       "3           0.808989           0.820225           0.741573           0.786517   \n",
       "4           0.792135           0.825843           0.780899           0.820225   \n",
       "\n",
       "   mean_test_score  std_test_score  rank_test_score  \n",
       "0         0.775570        0.028086               62  \n",
       "1         0.780077        0.027076               60  \n",
       "2         0.795782        0.023233               55  \n",
       "3         0.782299        0.030388               59  \n",
       "4         0.802479        0.017423               53  "
      ]
     },
     "execution_count": 11,
     "metadata": {},
     "output_type": "execute_result"
    }
   ],
   "source": [
    "scores = pd.DataFrame(est.cv_results_)\n",
    "scores.head()"
   ]
  },
  {
   "cell_type": "code",
   "execution_count": 14,
   "metadata": {},
   "outputs": [
    {
     "data": {
      "text/plain": [
       "<seaborn.axisgrid.FacetGrid at 0x1ad59807fd0>"
      ]
     },
     "execution_count": 14,
     "metadata": {},
     "output_type": "execute_result"
    },
    {
     "data": {
      "image/png": "[encoded data removed]",
      "text/plain": [
       "<Figure size 1687.24x500 with 3 Axes>"
      ]
     },
     "metadata": {},
     "output_type": "display_data"
    }
   ],
   "source": [
    "sns.catplot(x='param_max_depth', y='mean_test_score',\n",
    "            col='param_min_samples_split',\n",
    "            hue='param_min_samples_leaf',\n",
    "            data=scores, kind='box')"
   ]
  }
 ],
 "metadata": {
  "kernelspec": {
   "display_name": "Python 3",
   "language": "python",
   "name": "python3"
  },
  "language_info": {
   "codemirror_mode": {
    "name": "ipython",
    "version": 3
   },
   "file_extension": ".py",
   "mimetype": "text/x-python",
   "name": "python",
   "nbconvert_exporter": "python",
   "pygments_lexer": "ipython3",
   "version": "3.11.2"
  }
 },
 "nbformat": 4,
 "nbformat_minor": 2
}
